{
 "cells": [
  {
   "cell_type": "code",
   "execution_count": null,
   "metadata": {
    "vscode": {
     "languageId": "plaintext"
    }
   },
   "outputs": [],
   "source": [
    "[23년도] '성별'과 '국민연금 납부여부' 항목 결측치 확인 및 대체"
   ]
  },
  {
   "cell_type": "code",
   "execution_count": null,
   "metadata": {},
   "outputs": [],
   "source": [
    "welfare['sex'].value_counts()"
   ]
  },
  {
   "cell_type": "code",
   "execution_count": null,
   "metadata": {},
   "outputs": [],
   "source": [
    "# 결측확인\n",
    "welfare['sex'].isna().sum()"
   ]
  },
  {
   "cell_type": "code",
   "execution_count": null,
   "metadata": {},
   "outputs": [],
   "source": [
    "# 성별, 항목 이름 부여\n",
    "welfare['sex']=np.where(welfare['sex']==1,'male','female')\n",
    "\n",
    "# 빈도 구하기\n",
    "welfare['sex'].value_counts() # 빈도수"
   ]
  },
  {
   "cell_type": "code",
   "execution_count": null,
   "metadata": {},
   "outputs": [],
   "source": [
    "welfare['pension_status'].value_counts('1')"
   ]
  },
  {
   "cell_type": "code",
   "execution_count": null,
   "metadata": {},
   "outputs": [],
   "source": [
    "welfare['pension_status'].isna().sum()"
   ]
  },
  {
   "cell_type": "code",
   "execution_count": null,
   "metadata": {},
   "outputs": [],
   "source": [
    "# 결측치의 개수 계산\n",
    "missing_count = welfare['pension_status'].isna().sum()\n",
    "\n",
    "# 각 값의 개수 계산\n",
    "count_1 = int(missing_count * 0.8)  # 80%는 1로\n",
    "count_2 = missing_count - count_1   # 나머지 20%는 2로\n",
    "\n",
    "# 결측치를 채울 값 생성\n",
    "fill_values = [1] * count_1 + [2] * count_2\n",
    "\n",
    "# 결측치 위치의 인덱스 찾기\n",
    "nan_indices = welfare[welfare['pension_status'].isna()].index\n",
    "\n",
    "# 랜덤하게 결측치 인덱스를 선택하여 채우기\n",
    "np.random.shuffle(fill_values)\n",
    "welfare.loc[nan_indices, 'pension_status'] = fill_values\n",
    "\n",
    "# 결과 확인\n",
    "print(\"Pension Status Distribution After Filling:\")\n",
    "print(welfare['pension_status'].value_counts())"
   ]
  },
  {
   "cell_type": "code",
   "execution_count": null,
   "metadata": {},
   "outputs": [],
   "source": [
    "# 결측치 개수 0 확인\n",
    "welfare['pension_status'].isna().sum()"
   ]
  },
  {
   "cell_type": "code",
   "execution_count": null,
   "metadata": {},
   "outputs": [],
   "source": [
    "# 국민연금 납부 여부 항목 이름 부여\n",
    "welfare['pension_status']=np.where(welfare['pension_status']==1,'paid','unpaid')"
   ]
  },
  {
   "cell_type": "markdown",
   "metadata": {},
   "source": [
    "[23년도] 성별에 따른 국민연금 납부 여부"
   ]
  },
  {
   "cell_type": "code",
   "execution_count": null,
   "metadata": {},
   "outputs": [],
   "source": [
    "# 데이터 그룹화 및 집계\n",
    "grouped_data = welfare.groupby(['sex', 'pension_status']).size().unstack()\n",
    "\n",
    "# 막대 그래프 생성\n",
    "grouped_data.plot(kind='bar', stacked=True, colormap='Set2')\n",
    "plt.title('Pension Status by Sex')\n",
    "plt.xlabel('Sex')\n",
    "plt.ylabel('Count')\n",
    "plt.legend(title='Pension Status')\n",
    "plt.xticks(ticks=range(len(grouped_data.index)), labels=['Male', 'Female'], rotation=0)\n",
    "plt.show()"
   ]
  },
  {
   "cell_type": "code",
   "execution_count": null,
   "metadata": {
    "vscode": {
     "languageId": "plaintext"
    }
   },
   "outputs": [],
   "source": [
    "[23년도] '장애종류'와 '외래진료 횟수' 항목 결측치 확인 및 대체 및 제거"
   ]
  },
  {
   "cell_type": "code",
   "execution_count": null,
   "metadata": {},
   "outputs": [],
   "source": [
    "welfare['disabled_type'].isna().sum()"
   ]
  },
  {
   "cell_type": "code",
   "execution_count": null,
   "metadata": {},
   "outputs": [],
   "source": [
    "welfare['disabled_type'].value_counts()"
   ]
  },
  {
   "cell_type": "code",
   "execution_count": null,
   "metadata": {},
   "outputs": [],
   "source": [
    "# 0:비장애인, 1:지체장애, 2:뇌병변장애, 3:시각장애, 4:청각장애 5~: 그 외\n",
    "\n",
    "welfare['disabled']=np.where(welfare['disabled_type']==0, '비장애인',\n",
    "                           np.where(welfare['disabled_type']==1,'지체장애',\n",
    "                                    np.where(welfare['disabled_type']==2,'뇌병변장애',\n",
    "                                             np.where(welfare['disabled_type']==3,'시각장애',\n",
    "                                                      np.where(welfare['disabled_type']==4,'청각장애','그 외')))))\n",
    "\n",
    "welfare['disabled'].head(10)"
   ]
  },
  {
   "cell_type": "code",
   "execution_count": null,
   "metadata": {},
   "outputs": [],
   "source": [
    "welfare['hospital_year'].isna().sum()"
   ]
  },
  {
   "cell_type": "code",
   "execution_count": null,
   "metadata": {},
   "outputs": [],
   "source": [
    "# 외래진료횟수 150회 이상은 결측치로 처리\n",
    "welfare['hospital_year']=np.where(welfare['hospital_year']>=150,np.nan,welfare['hospital_year'])"
   ]
  },
  {
   "cell_type": "code",
   "execution_count": null,
   "metadata": {},
   "outputs": [],
   "source": [
    "# 결측치 제거\n",
    "welfare = welfare.dropna(subset=['hospital_year'])"
   ]
  },
  {
   "cell_type": "markdown",
   "metadata": {},
   "source": [
    "[23년도] 장애종류에 따른 평균 외래진료 횟수"
   ]
  },
  {
   "cell_type": "code",
   "execution_count": null,
   "metadata": {},
   "outputs": [],
   "source": [
    "# 'disabled' 열의 각 범주별로 'hospital_year' 평균 계산\n",
    "average_hospital_visits = welfare.groupby('disabled')['hospital_year'].mean().reset_index()\n",
    "\n",
    "# 막대 그래프 생성\n",
    "plt.figure(figsize=(10, 8))\n",
    "sns.barplot(data=average_hospital_visits, x='disabled', y='hospital_year', palette='viridis', order=['비장애인','지체장애','뇌병변장애','시각장애','청각장애','그 외'])\n",
    "plt.title('장애종류에 따른 평균 외래진료 횟수')\n",
    "plt.xlabel('장애종류')\n",
    "plt.ylabel('평균 외래진료 횟수')\n",
    "plt.xticks(rotation=0)  # x축 레이블을 읽기 쉽게 회전\n",
    "plt.show()"
   ]
  },
  {
   "cell_type": "markdown",
   "metadata": {},
   "source": [
    "[23년도] '월급' 항목 결측치 확인 및 대체 및 제거"
   ]
  },
  {
   "cell_type": "code",
   "execution_count": null,
   "metadata": {},
   "outputs": [],
   "source": [
    "# 이상치는 결측 처리\n",
    "welfare['income']=np.where(welfare['income']>=9500, np.nan, welfare['income'])\n",
    "\n",
    "# 결측치 확인\n",
    "welfare['income'].isna().sum()"
   ]
  },
  {
   "cell_type": "code",
   "execution_count": null,
   "metadata": {},
   "outputs": [],
   "source": [
    "# 장애종류별 월급 평균\n",
    "dis_income=welfare.dropna(subset=['income'])\\\n",
    "                  .groupby('disabled',as_index=False)\\\n",
    "                  .agg(mean_income=('income','mean'))\n",
    "dis_income"
   ]
  },
  {
   "cell_type": "markdown",
   "metadata": {},
   "source": [
    "[23년도] 장애종류별 평균 월급"
   ]
  },
  {
   "cell_type": "code",
   "execution_count": null,
   "metadata": {},
   "outputs": [],
   "source": [
    "# 'disabled' 컬럼을 범주형으로 변환하고 순서 지정\n",
    "dis_income['disabled'] = pd.Categorical(dis_income['disabled'], \n",
    "                                       categories=['비장애인', '지체장애', '뇌병변장애', '시각장애', '청각장애', '그 외'],\n",
    "                                       ordered=True)\n",
    "\n",
    "# 데이터 정렬\n",
    "dis_income = dis_income.sort_values('disabled')\n",
    "\n",
    "\n",
    "# 선 그래프 그리기\n",
    "sns.lineplot(data=dis_income, x='disabled', y='mean_income', marker='h', color='red')\n",
    "plt.title(\"장애종류별 평균 월급\")\n",
    "plt.xlabel('장애종류')\n",
    "plt.ylabel('평균수입')\n",
    "plt.xticks(rotation=0) # x축 범주들 글자 각도 조정, 필요에 따라 조절\n",
    "plt.show()"
   ]
  },
  {
   "cell_type": "markdown",
   "metadata": {},
   "source": [
    "[23년도] 장애인 취업률 구하기"
   ]
  },
  {
   "cell_type": "code",
   "execution_count": null,
   "metadata": {},
   "outputs": [],
   "source": [
    "welfare['eW'].isna().sum()"
   ]
  },
  {
   "cell_type": "code",
   "execution_count": null,
   "metadata": {},
   "outputs": [],
   "source": [
    "welfare = welfare.dropna(subset=['eW'])"
   ]
  },
  {
   "cell_type": "code",
   "execution_count": null,
   "metadata": {},
   "outputs": [],
   "source": [
    "welfare['eW'].value_counts()"
   ]
  },
  {
   "cell_type": "code",
   "execution_count": null,
   "metadata": {},
   "outputs": [],
   "source": [
    "welfare['eW'] = np.where((welfare['eW'] == 8) | (welfare['eW'] == 9), '비근로자', '근로자')"
   ]
  },
  {
   "cell_type": "code",
   "execution_count": null,
   "metadata": {},
   "outputs": [],
   "source": [
    "welfare['eW'].value_counts('1')"
   ]
  },
  {
   "cell_type": "code",
   "execution_count": null,
   "metadata": {},
   "outputs": [],
   "source": [
    "# 장애 종류의 순서를 지정하여 데이터 정렬\n",
    "order = ['비장애인', '지체장애', '뇌병변장애', '시각장애', '청각장애', '그 외']\n",
    "welfare['disabled'] = pd.Categorical(welfare['disabled'], categories=order, ordered=True)\n",
    "\n",
    "# 데이터 그룹화 및 집계\n",
    "grouped_data = welfare.groupby(['disabled', 'eW']).size().unstack().reindex(columns=['근로자', '비근로자'], fill_value=0)\n",
    "\n",
    "# 막대 그래프 생성\n",
    "plt.figure(figsize=(12, 8))\n",
    "ax = grouped_data.plot(kind='bar', stacked=True, colormap='Set1', ax=plt.gca())\n",
    "\n",
    "# 제목 및 축 레이블 설정\n",
    "plt.title('Disability Type and Employment Status')\n",
    "plt.xlabel('Disability Type')\n",
    "plt.ylabel('Count')\n",
    "\n",
    "# x축 레이블 설정\n",
    "plt.xticks(ticks=range(len(grouped_data.index)), labels=grouped_data.index, rotation=45)\n",
    "\n",
    "# 범례 설정\n",
    "plt.legend(title='Employment Status')\n",
    "\n",
    "# 그래프 표시\n",
    "plt.show()"
   ]
  },
  {
   "cell_type": "code",
   "execution_count": null,
   "metadata": {},
   "outputs": [],
   "source": [
    "\n",
    "# 장애 종류의 순서를 지정하여 데이터 정렬\n",
    "order = ['비장애인', '지체장애', '뇌병변장애', '시각장애', '청각장애', '그 외']\n",
    "welfare['disabled'] = pd.Categorical(welfare['disabled'], categories=order, ordered=True)\n",
    "\n",
    "# 데이터 그룹화 및 집계\n",
    "grouped_data = welfare.groupby(['disabled', 'eW']).size().unstack().reindex(columns=['근로자', '비근로자'], fill_value=0)\n",
    "\n",
    "# 비장애인 제외\n",
    "filtered_data = grouped_data.drop(index='비장애인')\n",
    "\n",
    "# 비장애인을 제외한 나머지 범주의 총 수\n",
    "total_counts_excluding_non_disabled = filtered_data.sum().sum()\n",
    "\n",
    "# 비장애인을 제외한 나머지 범주에서 근로자의 총 수\n",
    "total_employed_excluding_non_disabled = filtered_data['근로자'].sum()\n",
    "\n",
    "# 비율 계산\n",
    "employment_percentage = (total_employed_excluding_non_disabled / total_counts_excluding_non_disabled) * 100\n",
    "\n",
    "# 결과 출력\n",
    "print(f'장애인 중에서 근로자 비율: {employment_percentage:.2f}%')\n",
    "print(f'장애인 중에서 비근로자 비율: {100-employment_percentage:.2f}%')"
   ]
  }
 ],
 "metadata": {
  "kernelspec": {
   "display_name": "Python 3",
   "language": "python",
   "name": "python3"
  },
  "language_info": {
   "codemirror_mode": {
    "name": "ipython",
    "version": 3
   },
   "file_extension": ".py",
   "mimetype": "text/x-python",
   "name": "python",
   "nbconvert_exporter": "python",
   "pygments_lexer": "ipython3",
   "version": "3.12.4"
  }
 },
 "nbformat": 4,
 "nbformat_minor": 2
}
