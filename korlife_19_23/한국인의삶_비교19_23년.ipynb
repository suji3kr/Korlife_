{
 "cells": [
  {
   "cell_type": "markdown",
   "id": "06ff2e84",
   "metadata": {},
   "source": [
    "# 한국인의 삶_2019_2023 비교"
   ]
  },
  {
   "cell_type": "code",
   "execution_count": null,
   "id": "6d4dc360",
   "metadata": {},
   "outputs": [],
   "source": [
    "# 2019년 코드 (셀 1)\n",
    "import pandas as pd\n",
    "import numpy as np\n",
    "import seaborn as sns\n",
    "import pyreadstat as py\n",
    "import plotly.express as px\n",
    "import matplotlib as mpl\n",
    "import matplotlib.lines as mlines\n",
    "\n",
    "\n",
    "# 2023년 코드 (셀 1)\n",
    "import pandas as pd\n",
    "import numpy as np\n",
    "import seaborn as sns\n",
    "import pyreadstat as py\n",
    "\n",
    "import matplotlib.pyplot as plt\n",
    "\n",
    "plt.rcParams.update({'font.family' : \"Malgun Gothic\"})\n"
   ]
  },
  {
   "cell_type": "code",
   "execution_count": null,
   "id": "029c779b",
   "metadata": {},
   "outputs": [],
   "source": [
    "# 2019년 코드 (셀 2)\n",
    "# 데이터 불러오기\n",
    "raw_welfare_2019 =pd.read_spss('D:/KNY_data/data/Koweps_hpwc14_2019_beta2.sav')\n",
    "\n",
    "# 복사본 만들기\n",
    "welfare_2019 =raw_welfare_2019.copy()\n",
    "welfare_2019.head()\n",
    "\n",
    "# 2023년 코드 (셀 2)\n",
    "# 데이터 불러오기\n",
    "raw_welfare_2023 =pd.read_spss('D:/KNY_data/과제/2023 data/Koweps_hpda18_2023_beta1.sav')\n",
    "\n",
    "# 복사본 만들기\n",
    "welfare_2023 =raw_welfare_2023.copy()\n",
    "welfare_2023.head()"
   ]
  },
  {
   "cell_type": "code",
   "execution_count": null,
   "id": "26d28e4a",
   "metadata": {},
   "outputs": [],
   "source": [
    "# 2019년 코드 (셀 3)\n",
    "# 데이터 검토\n",
    "# welfare_2019 # 앞부분, 뒷부분 확인\n",
    "#welfare_2019.shape # 행,열의 갯수\n",
    "#welfare_2019.info() # 열의 속성\n",
    "#welfare_2019.describe() #요약 통계\n",
    "#welfare_2019.head()\n",
    "\n",
    "# 2023년 코드 (셀 3)\n",
    "# 데이터 검토\n",
    "# welfare_2023 # 앞부분, 뒷부분 확인\n",
    "#welfare_2023.shape # 행,열의 갯수\n",
    "#welfare_2023.info() # 열의 속성\n",
    "#welfare_2023.describe() #요약 통계\n",
    "#welfare_2023.head()\n"
   ]
  },
  {
   "cell_type": "code",
   "execution_count": null,
   "id": "8fcf8336",
   "metadata": {},
   "outputs": [],
   "source": [
    "# 2019년 코드 (셀 4)\n",
    "# 분석에 필요한 열을 결정/ 열이름 변경\n",
    "welfare_2019 =welfare_2019.rename(\n",
    "    columns={'h14_g3'    : 'sex19',            #성별\n",
    "             'h14_g4'    : 'birth19',          #태어난 년도\n",
    "             'h14_g10'   : 'marriage_type19',  #혼인 상태\n",
    "             'h14_g11'   : 'religion19',       #종교\n",
    "             'p1402_8aq1': 'income19',         #월급\n",
    "             'h14_eco9'  : 'code_job19',       #직업코드\n",
    "             'h14_reg7'  : 'code_region19'})   #지역 코드\n",
    "\n",
    "# 2023년 코드 (셀 4)\n",
    "# 분석에 필요한 열을 결정/ 열이름 변경\n",
    "welfare_2023 =welfare_2023.rename(\n",
    "    columns={'h18_g3'    : 'sex23',            #성별\n",
    "             'h18_g4'    : 'birth23',          #태어난 년도\n",
    "             'h18_g10'   : 'marriage_type23',  #혼인 상태\n",
    "             'h18_g11'   : 'religion23',       #종교\n",
    "             'p1802_8aq1': 'income23',         #월급\n",
    "             'h18_eco9'  : 'code_job23',       #직업코드\n",
    "             'h18_reg7'  : 'code_region23'})   #지역 코드"
   ]
  },
  {
   "cell_type": "code",
   "execution_count": null,
   "id": "ebc80ab7",
   "metadata": {},
   "outputs": [],
   "source": [
    "# 2019년 코드 (셀 5)\n",
    "# 성별 변수 검토 및 전처리\n",
    "print(welfare_2019['sex19'].dtype) # 타입 출력\n",
    "\n",
    "# 2023년 코드 (셀 5)\n",
    "# 성별 변수 검토 및 전처리\n",
    "print(welfare_2023['sex23'].dtype) # 타입 출력"
   ]
  },
  {
   "cell_type": "code",
   "execution_count": null,
   "id": "fd3307f5",
   "metadata": {},
   "outputs": [],
   "source": [
    "# 2019년 코드 (셀 6)\n",
    "print(welfare_2019['sex19'].value_counts()) #빈도수\n",
    "\n",
    "# 2023년 코드 (셀 6)\n",
    "print(welfare_2023['sex23'].value_counts()) #빈도수"
   ]
  },
  {
   "cell_type": "code",
   "execution_count": null,
   "id": "31128e93",
   "metadata": {},
   "outputs": [],
   "source": [
    "# 2019년 코드 (셀 7)\n",
    "# 이상치 결측 처리\n",
    "welfare_2019['sex19'] =np.where(welfare_2019['sex19'] ==9, np.nan, welfare_2019['sex19'])\n",
    "\n",
    "# 결측 확인 #loc<< 이거 행 변경 기억하기.\n",
    "welfare_2019['sex19'].isna().sum()\n",
    "\n",
    "# 2023년 코드 (셀 7)\n",
    "# 이상치 결측 처리\n",
    "welfare_2023['sex23'] =np.where(welfare_2023['sex23'] ==9, np.nan, welfare_2023['sex23'])\n",
    "\n",
    "# 결측 확인 #loc<< 이거 행 변경 기억하기.\n",
    "welfare_2023['sex23'].isna().sum()"
   ]
  },
  {
   "cell_type": "code",
   "execution_count": null,
   "id": "2c5cadce",
   "metadata": {},
   "outputs": [],
   "source": [
    "# 2019년 코드 (셀 8)\n",
    "# 성별 항목 이름 부여\n",
    "welfare_2019['sex19']= np.where(welfare_2019['sex19'] == 1, 'male','female')\n",
    "\n",
    "#빈도구하기\n",
    "print(welfare_2019['sex19'].value_counts())\n",
    "\n",
    "# 2023년 코드 (셀 8)\n",
    "# 성별 항목 이름 부여\n",
    "welfare_2023['sex23']= np.where(welfare_2023['sex23'] == 1, 'male','female')\n",
    "\n",
    "#빈도구하기\n",
    "print(welfare_2023['sex23'].value_counts())"
   ]
  },
  {
   "cell_type": "code",
   "execution_count": null,
   "id": "ec4167f8",
   "metadata": {},
   "outputs": [],
   "source": [
    "# 2019년 코드 (셀 9)\n",
    "# 빈도 막대 그래프 # seaborn을 쓰고있다는것 map plot을 안쓰고있고\n",
    "sns.countplot(data =welfare_2019, x='sex19') \n"
   ]
  },
  {
   "cell_type": "code",
   "execution_count": null,
   "id": "06d39b05",
   "metadata": {},
   "outputs": [],
   "source": [
    "\n",
    "# 2023년 코드 (셀 9)\n",
    "# 빈도 막대 그래프 # seaborn을 쓰고있다는것 map plot을 안쓰고있고\n",
    "sns.countplot(data =welfare_2023, x='sex23') "
   ]
  },
  {
   "cell_type": "code",
   "execution_count": null,
   "id": "5d9640e4",
   "metadata": {},
   "outputs": [],
   "source": [
    "import pandas as pd\n",
    "import seaborn as sns\n",
    "import matplotlib.pyplot as plt\n",
    "\n",
    "# 예시 데이터프레임 (데이터 로드 필요)\n",
    "# welfare_2019 = pd.read_csv('welfare_2019.csv')  # 2019년 데이터 로드\n",
    "# welfare_2023 = pd.read_csv('welfare_2023.csv')  # 2023년 데이터 로드\n",
    "\n",
    "# 2019년 성별 데이터 처리\n",
    "count_2019 = welfare_2019['sex19'].value_counts().reset_index()\n",
    "count_2019.columns = ['Sex', 'Count']\n",
    "count_2019['Year'] = '2019'\n",
    "\n",
    "# 2023년 성별 데이터 처리\n",
    "count_2023 = welfare_2023['sex23'].value_counts().reset_index()\n",
    "count_2023.columns = ['Sex', 'Count']\n",
    "count_2023['Year'] = '2023'\n",
    "\n",
    "# 두 데이터프레임 병합\n",
    "comparison_df = pd.concat([count_2019, count_2023], ignore_index=True)\n",
    "\n",
    "# 차트 생성\n",
    "plt.figure(figsize=(10, 6))\n",
    "sns.barplot(data=comparison_df, x='Year', y='Count', hue='Sex', palette='pastel')\n",
    "\n",
    "# 차트 제목 및 레이블 설정\n",
    "plt.title('2019년과 2023년의 남여 인원 비교')\n",
    "plt.xlabel('년도')\n",
    "plt.ylabel('명수')\n",
    "\n",
    "# 차트 표시\n",
    "plt.show()\n"
   ]
  },
  {
   "cell_type": "code",
   "execution_count": null,
   "id": "bcdf7de9",
   "metadata": {},
   "outputs": [],
   "source": [
    "# 2019년 코드 (셀 10)\n",
    "# 월급 # 변수 타입 출력\n",
    "print(welfare_2019['income19'].dtype)\n",
    "\n",
    "# 2023년 코드 (셀 10)\n",
    "# 월급 # 변수 타입 출력\n",
    "print(welfare_2023['income23'].dtype)"
   ]
  },
  {
   "cell_type": "code",
   "execution_count": null,
   "id": "f6fbbf3e",
   "metadata": {},
   "outputs": [],
   "source": [
    "# 2019년 코드 (셀 11)\n",
    "sns.histplot(data=welfare_2019, x='income19')\n"
   ]
  },
  {
   "cell_type": "code",
   "execution_count": null,
   "id": "0df1e218",
   "metadata": {},
   "outputs": [],
   "source": [
    "\n",
    "# 2023년 코드 (셀 11)\n",
    "sns.histplot(data=welfare_2023, x='income23')"
   ]
  },
  {
   "cell_type": "code",
   "execution_count": null,
   "id": "3dfda33b",
   "metadata": {},
   "outputs": [],
   "source": [
    "\n",
    "# # 일반 박스플롯 그래프\n",
    "# # welfare_2019 = pd.read_csv('welfare_2019.csv')  # 2019년 데이터 로드\n",
    "# # welfare_2023 = pd.read_csv('welfare_2023.csv')  # 2023년 데이터 로드\n",
    "\n",
    "# # 2019년 수입 데이터 처리\n",
    "# income_2019 = welfare_2019['2019_income'].dropna()\n",
    "# income_2019_df = pd.DataFrame({\n",
    "#     'Income': income_2019,\n",
    "#     'Year': '2019'\n",
    "# })\n",
    "\n",
    "# # 2023년 수입 데이터 처리\n",
    "# income_2023 = welfare_2023['2023_income'].dropna()\n",
    "# income_2023_df = pd.DataFrame({\n",
    "#     'Income': income_2023,\n",
    "#     'Year': '2023'\n",
    "# })\n",
    "\n",
    "# # 두 데이터프레임 병합\n",
    "# comparison_df = pd.concat([income_2019_df, income_2023_df], ignore_index=True)\n",
    "\n",
    "# # 상자 그래프 생성\n",
    "# plt.figure(figsize=(12, 8))\n",
    "# sns.boxplot(data=comparison_df, x='Year', y='Income', palette='pastel')\n",
    "\n",
    "# # 차트 제목 및 레이블 설정\n",
    "# plt.title('Income Distribution Comparison for 2019 and 2023')\n",
    "# plt.xlabel('Year')\n",
    "# plt.ylabel('Income')\n",
    "\n",
    "# # 차트 표시\n",
    "# plt.show()\n"
   ]
  },
  {
   "cell_type": "code",
   "execution_count": null,
   "id": "0029feb0",
   "metadata": {},
   "outputs": [],
   "source": [
    "# 2019년 수입 데이터 처리\n",
    "income_2019 = welfare_2019['income19'].dropna()\n",
    "income_2019_df = pd.DataFrame({\n",
    "    'Income': income_2019,\n",
    "    'Year': '2019'\n",
    "})\n",
    "\n",
    "# 2023년 수입 데이터 처리\n",
    "income_2023 = welfare_2023['income23'].dropna()\n",
    "income_2023_df = pd.DataFrame({\n",
    "    'Income': income_2023,\n",
    "    'Year': '2023'\n",
    "})\n",
    "\n",
    "# 두 데이터프레임 병합\n",
    "comparison_df = pd.concat([income_2019_df, income_2023_df], ignore_index=True)\n",
    "\n",
    "# 상자 그래프 생성\n",
    "plt.figure(figsize=(12, 8))\n",
    "ax = sns.boxplot(data=comparison_df, x='Year', y='Income', palette='pastel')\n",
    "\n",
    "# 중앙값, 최대값, 최소값 계산\n",
    "stats = comparison_df.groupby('Year')['Income'].agg(['median', 'max', 'min']).reset_index()\n",
    "\n",
    "# 데이터 테이블 생성\n",
    "table_data = []\n",
    "for _, row in stats.iterrows():\n",
    "    table_data.append([row['Year'], row['median'], row['max'], row['min']])\n",
    "\n",
    "# 데이터 테이블 추가\n",
    "table = plt.table(cellText=table_data,\n",
    "                  colLabels=['Year', 'Median', 'Max', 'Min'],\n",
    "                  cellLoc='center',\n",
    "                  loc='upper center',\n",
    "                  bbox=[0.15, -0.2, 0.7, 0.15])  # 위치 조정\n",
    "\n",
    "# 차트 제목 및 레이블 설정\n",
    "plt.title('2019년과 2023년의 평균임금 분포 비교', fontsize = 25)\n",
    "plt.xlabel('년도', fontsize = 15)\n",
    "plt.ylabel('평균임금', fontsize = 15)\n",
    "\n",
    "# 그래프 레이아웃 조정\n",
    "plt.tight_layout()\n",
    "\n",
    "# 차트 표시\n",
    "plt.show()"
   ]
  },
  {
   "cell_type": "code",
   "execution_count": null,
   "id": "58f07348",
   "metadata": {},
   "outputs": [],
   "source": [
    "# 2019년 수입 데이터 처리\n",
    "income_2019 = welfare_2019['income19'].dropna()\n",
    "income_2019_df = pd.DataFrame({\n",
    "    'Income': income_2019,\n",
    "    'Year': '2019'\n",
    "})\n",
    "\n",
    "# 2023년 수입 데이터 처리\n",
    "income_2023 = welfare_2023['income23'].dropna()\n",
    "income_2023_df = pd.DataFrame({\n",
    "    'Income': income_2023,\n",
    "    'Year': '2023'\n",
    "})\n",
    "\n",
    "# 두 데이터프레임 병합\n",
    "comparison_df = pd.concat([income_2019_df, income_2023_df], ignore_index=True)\n",
    "\n",
    "# 상자 그래프 생성\n",
    "plt.figure(figsize=(12, 8))\n",
    "ax = sns.boxplot(data=comparison_df, x='Year', y='Income', palette='pastel')\n",
    "\n",
    "# 중앙값, 최대값, 최소값 및 Q1, Q3, IQR 계산\n",
    "for year in comparison_df['Year'].unique():\n",
    "    data = comparison_df[comparison_df['Year'] == year]['Income']\n",
    "    Q1 = data.quantile(0.25)\n",
    "    Q3 = data.quantile(0.75)\n",
    "    IQR = Q3 - Q1\n",
    "    median = data.median()\n",
    "    mean = data.mean()\n",
    "    min = row['min']\n",
    "    max = Q3 + 1.5 * IQR\n",
    "    \n",
    "    # 값 표시\n",
    "    ax.text(year, median, f'Median: {median:.2f}', color='black', ha='center', va='bottom', fontsize=10, weight='bold')\n",
    "    ax.text(year, mean, f'Mean: {mean:.2f}', color='red', ha='center', va='bottom', fontsize=10, weight='bold')\n",
    "\n",
    "    ax.text(year, min, f'Min: {min:.2f}', color='black', ha='center', va='bottom', fontsize=10, weight='bold')\n",
    "    ax.text(year, max, f'Max (Adj.): {max:.2f}', color='black', ha='center', va='bottom', fontsize=10, weight='bold')\n",
    "\n",
    "# 차트 제목 및 레이블 설정\n",
    "plt.title('2019년과 2023년의 평균임금 분포 비교', fontsize = 25)\n",
    "plt.xlabel('년도', fontsize = 15)\n",
    "plt.ylabel('평균임금', fontsize = 15)\n",
    "\n",
    "# 그래프의 그리드 선 추가\n",
    "ax.grid(True, linestyle='--', alpha=0.7)\n",
    "\n",
    "# 그래프 표시\n",
    "plt.show()"
   ]
  },
  {
   "cell_type": "code",
   "execution_count": null,
   "id": "1657165e",
   "metadata": {},
   "outputs": [],
   "source": [
    "fig, axes = plt.subplots(1, 2, figsize=(14, 7))\n",
    "\n",
    "# 2019년 데이터의 바이올렛 플롯 생성\n",
    "sns.violinplot(data=welfare_2019, x=\"income19\", ax=axes[0], color='skyblue')\n",
    "axes[0].set_title(\"2019 Income\")\n",
    "axes[0].set_xlabel(\"2019 Income\")\n",
    "axes[0].set_ylabel(\"Density\")\n",
    "axes[0].grid(True, linestyle='--', alpha=0.7)  # 그리드선 추가\n",
    "\n",
    "# 중앙값 계산 및 표시\n",
    "median_2019 = welfare_2019['income19'].median()\n",
    "axes[0].axvline(median_2019, color='red', linestyle='--', linewidth=2)\n",
    "axes[0].text(median_2019, 0.02, f'Median: {median_2019:.2f}', color='red', \n",
    "             horizontalalignment='right', fontsize=10)\n",
    "\n",
    "# 2023년 데이터의 바이올렛 플롯 생성\n",
    "sns.violinplot(data=welfare_2023, x=\"income23\", ax=axes[1], color='orange')\n",
    "axes[1].set_title(\"2023 Income\")\n",
    "axes[1].set_xlabel(\"2023 Income\")\n",
    "axes[1].set_ylabel(\"Density\")\n",
    "axes[1].grid(True, linestyle='--', alpha=0.7)  # 그리드선 추가\n",
    "\n",
    "# 중앙값 계산 및 표시\n",
    "median_2023 = welfare_2023['income23'].median()\n",
    "axes[1].axvline(median_2023, color='red', linestyle='--', linewidth=2)\n",
    "axes[1].text(median_2023, 0.02, f'Median: {median_2023:.2f}', color='red', \n",
    "             horizontalalignment='right', fontsize=10)\n",
    "\n",
    "# 그래프 레이아웃 조정 및 표시\n",
    "plt.tight_layout()\n",
    "plt.show()"
   ]
  },
  {
   "cell_type": "code",
   "execution_count": null,
   "id": "11590313",
   "metadata": {},
   "outputs": [],
   "source": [
    "# 2019년 코드 (셀 12)\n",
    "print(welfare_2019['income19'].describe()) #이상치확인\n",
    "\n",
    "# 2023년 코드 (셀 12)\n",
    "print(welfare_2023['income23'].describe()) #이상치확인"
   ]
  },
  {
   "cell_type": "code",
   "execution_count": null,
   "id": "4f282162",
   "metadata": {},
   "outputs": [],
   "source": [
    "# 2019년 코드 (셀 13)\n",
    "print(welfare_2019['income19'].isna().sum()) # 결측지 확인\n",
    "\n",
    "# 2023년 코드 (셀 13)\n",
    "print(welfare_2023['income23'].isna().sum()) # 결측지 확인"
   ]
  },
  {
   "cell_type": "code",
   "execution_count": null,
   "id": "cea2bda2",
   "metadata": {},
   "outputs": [],
   "source": [
    "# 2019년 코드 (셀 14)\n",
    "# 이상치 결측 처리\n",
    "welfare_2019['income19'] =np.where(welfare_2019['income19'] == 9999, np.nan,welfare_2019['income19'])\n",
    "# 결측치 확인\n",
    "print(welfare_2019['income19'].isna().sum())\n",
    "\n",
    "# 2023년 코드 (셀 14)\n",
    "# 이상치 결측 처리\n",
    "welfare_2023['income23'] =np.where(welfare_2023['income23'] == 9999, np.nan,welfare_2023['income23'])\n",
    "# 결측치 확인\n",
    "print(welfare_2023['income23'].isna().sum())"
   ]
  },
  {
   "cell_type": "code",
   "execution_count": null,
   "id": "43d08754",
   "metadata": {},
   "outputs": [],
   "source": [
    "# 2019년 코드 (셀 15)\n",
    "# 성별 월급 평균\n",
    "sex_income =welfare_2019.dropna(subset=['income19']) \\\n",
    "                   .groupby('sex19',as_index=False) \\\n",
    "                   .agg(mean_income = ('income19', 'mean'))  \n",
    "sex_income   \n"
   ]
  },
  {
   "cell_type": "code",
   "execution_count": null,
   "id": "1138f9d1",
   "metadata": {},
   "outputs": [],
   "source": [
    "\n",
    "# 2023년 코드 (셀 15)\n",
    "# 성별 월급 평균\n",
    "sex_income =welfare_2023.dropna(subset=['income23']) \\\n",
    "                   .groupby('sex23',as_index=False) \\\n",
    "                   .agg(mean_income = ('income23', 'mean'))  \n",
    "sex_income   "
   ]
  },
  {
   "cell_type": "code",
   "execution_count": null,
   "id": "ed5ff522",
   "metadata": {},
   "outputs": [],
   "source": [
    "\n",
    "# # 2023년 코드 (셀 15)\n",
    "# # 성별 월급 평균\n",
    "# # sex_income =welfare_2023.dropna(subset=['income23']) \\\n",
    "#                    .groupby('2023_sex',as_index=False) \\\n",
    "#                    .agg(mean_income = ('income23', 'mean'))  \n",
    "# sex_income   "
   ]
  },
  {
   "cell_type": "code",
   "execution_count": null,
   "id": "f44a8ca7",
   "metadata": {},
   "outputs": [],
   "source": [
    "# 2023년 코드 (셀 16)\n",
    "sns.barplot(data=sex_income, x= 'sex23', y='mean_income')\n"
   ]
  },
  {
   "cell_type": "code",
   "execution_count": null,
   "id": "813e3d1a",
   "metadata": {},
   "outputs": [],
   "source": [
    "\n",
    "# 2019년 코드 (셀 16)\n",
    "# sns.barplot(data=sex_income, x='2019_sex', y='mean_income')"
   ]
  },
  {
   "cell_type": "markdown",
   "id": "f9dbda69",
   "metadata": {},
   "source": [
    "Comparison of Average Income by Gender in 2019 and 2023"
   ]
  },
  {
   "cell_type": "code",
   "execution_count": null,
   "id": "3c93c3fc",
   "metadata": {},
   "outputs": [],
   "source": [
    "# 2019년 성별별 평균 수입 계산\n",
    "mean_income_2019 = welfare_2019.groupby('sex19')['income19'].mean().reset_index()\n",
    "mean_income_2019.columns = ['Sex', 'Mean_Income']\n",
    "mean_income_2019['Year'] = '2019'\n",
    "\n",
    "# 2023년 성별별 평균 수입 계산\n",
    "mean_income_2023 = welfare_2023.groupby('sex23')['income23'].mean().reset_index()\n",
    "mean_income_2023.columns = ['Sex', 'Mean_Income']\n",
    "mean_income_2023['Year'] = '2023'\n",
    "\n",
    "# 두 데이터프레임 병합\n",
    "comparison_df = pd.concat([mean_income_2019, mean_income_2023], ignore_index=True)\n",
    "\n",
    "# 차트 생성\n",
    "plt.figure(figsize=(10, 6))\n",
    "sns.barplot(data=comparison_df, x='Year', y='Mean_Income', hue='Sex', palette='pastel')\n",
    "\n",
    "# 차트 제목 및 레이블 설정\n",
    "plt.title('년도별 성별에 따른 평균 임금 비교 2019 and 2023', fontsize= 20)\n",
    "plt.xlabel('Year')\n",
    "plt.ylabel('Mean Income')\n",
    "\n",
    "# 차트 표시\n",
    "plt.show()"
   ]
  },
  {
   "cell_type": "markdown",
   "id": "61b16521",
   "metadata": {},
   "source": [
    "2023년과 2019년도의 남/녀 평균 소득 차이\n",
    "Comparison of Average Income by Gender in 2019 and 2023"
   ]
  },
  {
   "cell_type": "code",
   "execution_count": null,
   "id": "427279ca",
   "metadata": {},
   "outputs": [],
   "source": [
    "# 2019년 성별별 평균 수입 계산\n",
    "mean_income_2019 = welfare_2019.groupby('sex19')['income19'].mean().reset_index()\n",
    "mean_income_2019.columns = ['Sex', 'Mean_Income']\n",
    "mean_income_2019['Year'] = '2019'\n",
    "\n",
    "# 2023년 성별별 평균 수입 계산\n",
    "mean_income_2023 = welfare_2023.groupby('sex23')['income23'].mean().reset_index()\n",
    "mean_income_2023.columns = ['Sex', 'Mean_Income']\n",
    "mean_income_2023['Year'] = '2023'\n",
    "\n",
    "# 두 데이터프레임 병합\n",
    "comparison_df = pd.concat([mean_income_2019, mean_income_2023], ignore_index=True)\n",
    "\n",
    "# 차트 생성\n",
    "plt.figure(figsize=(10, 6))\n",
    "sns.barplot(data=comparison_df, x='Sex', y='Mean_Income', hue='Year', palette='pastel')\n",
    "\n",
    "# 차트 제목 및 레이블 설정\n",
    "plt.title('Comparison of Average Income by Gender in 2019 and 2023')\n",
    "plt.xlabel('Year')\n",
    "plt.ylabel('Mean Income')\n",
    "\n",
    "# 차트 표시\n",
    "plt.show()"
   ]
  },
  {
   "cell_type": "code",
   "execution_count": null,
   "id": "d99f8ab0",
   "metadata": {},
   "outputs": [],
   "source": [
    "# 2019년 코드 (셀 17)\n",
    "# 나이와 월급\n",
    "print(welfare_2019['birth19'].dtype)\n",
    "\n",
    "# 2023년 코드 (셀 17)\n",
    "# 나이와 월급\n",
    "print(welfare_2023['birth23'].dtype)"
   ]
  },
  {
   "cell_type": "code",
   "execution_count": null,
   "id": "9785a151",
   "metadata": {},
   "outputs": [],
   "source": [
    "# 2019년 코드 (셀 18)\n",
    "# 요약 통계\n",
    "print(welfare_2019['birth19'].describe)\n",
    "\n",
    "# 2023년 코드 (셀 18)\n",
    "# 요약 통계\n",
    "welfare_2023['birth23'].describe()"
   ]
  },
  {
   "cell_type": "code",
   "execution_count": null,
   "id": "4a8f340d",
   "metadata": {},
   "outputs": [],
   "source": [
    "# 2019년 코드 (셀 19)\n",
    "sns.histplot(data=welfare_2019, x= 'birth19')\n"
   ]
  },
  {
   "cell_type": "code",
   "execution_count": null,
   "id": "e7dbbe5b",
   "metadata": {},
   "outputs": [],
   "source": [
    "\n",
    "# 2023년 코드 (셀 19)\n",
    "sns.histplot(data=welfare_2023, x= 'birth23')"
   ]
  },
  {
   "cell_type": "code",
   "execution_count": null,
   "id": "29191efe",
   "metadata": {},
   "outputs": [],
   "source": [
    "pip install --upgrade nbformat"
   ]
  },
  {
   "cell_type": "code",
   "execution_count": null,
   "id": "35fcf94d",
   "metadata": {},
   "outputs": [],
   "source": [
    "# 데이터 준비\n",
    "welfare_2019['Year'] = '2019'\n",
    "welfare_2023['Year'] = '2023'\n",
    "\n",
    "# 필요한 열만 선택하고 열 이름을 일치시킵니다\n",
    "data_2019 = welfare_2019[['birth19', 'Year']].rename(columns={'birth19': 'Birth_Year'})\n",
    "data_2023 = welfare_2023[['birth23', 'Year']].rename(columns={'birth23': 'Birth_Year'})\n",
    "\n",
    "# 두 데이터프레임 병합\n",
    "combined_df = pd.concat([data_2019, data_2023], ignore_index=True)\n",
    "\n",
    "# 히스토그램 생성\n",
    "fig = px.histogram(combined_df, x='Birth_Year', color='Year', \n",
    "                   labels={'Birth_Year': 'Birth Year', 'Year': 'Year'},\n",
    "                   title='Distribution of Birth Year in 2019 and 2023',\n",
    "                   barmode='overlay')\n",
    "\n",
    "# 차트 표시\n",
    "fig.show()"
   ]
  },
  {
   "cell_type": "code",
   "execution_count": null,
   "id": "39caf00a",
   "metadata": {},
   "outputs": [],
   "source": [
    "# 2019년 코드 (셀 20)\n",
    "# 전처리\n",
    "print(welfare_2019['birth19'].describe()) #이상치 확인\n",
    "\n",
    "# 2023년 코드 (셀 20)\n",
    "# 전처리\n",
    "print(welfare_2023['birth23'].describe()) #이상치 확인"
   ]
  },
  {
   "cell_type": "code",
   "execution_count": null,
   "id": "132a6a9a",
   "metadata": {},
   "outputs": [],
   "source": [
    "# 2019년 코드 (셀 21)\n",
    "#결측치 확인\n",
    "print(welfare_2019['birth19'].isna().sum())\n",
    "\n",
    "# 2023년 코드 (셀 21)\n",
    "#결측치 확인\n",
    "print(welfare_2023['birth23'].isna().sum())"
   ]
  },
  {
   "cell_type": "code",
   "execution_count": null,
   "id": "e5810805",
   "metadata": {},
   "outputs": [],
   "source": [
    "# 2019년 코드 (셀 22)\n",
    "# 이상치 결측 처리\n",
    "welfare_2019['birth19'] =np.where(welfare_2019['birth19'] == 9999, np.nan, welfare_2019['birth19'])\n",
    "# 결측치 확인\n",
    "print(welfare_2019['birth19'].isna().sum())\n",
    "\n",
    "# 2023년 코드 (셀 22)\n",
    "# 이상치 결측 처리\n",
    "welfare_2023['birth23'] =np.where(welfare_2023['birth23'] == 9999, np.nan, welfare_2023['birth23'])\n",
    "# 결측치 확인\n",
    "print(welfare_2023['birth23'].isna().sum())"
   ]
  },
  {
   "cell_type": "code",
   "execution_count": null,
   "id": "cae68ffc",
   "metadata": {},
   "outputs": [],
   "source": [
    "# 2019년 코드 (셀 23)\n",
    "# assign 삽입\n",
    "welfare_2019 = welfare_2019.assign(age=2019 - welfare_2019['birth19'] + 1)\n",
    "welfare_2019['age'].describe()\n",
    "\n"
   ]
  },
  {
   "cell_type": "code",
   "execution_count": null,
   "id": "5fd1c056",
   "metadata": {},
   "outputs": [],
   "source": [
    "\n",
    "# 2023년 코드 (셀 23)\n",
    "# assign 삽입\n",
    "welfare_2023=welfare_2023.assign(age= 2023 - welfare_2023['birth23'] + 1)\n",
    "welfare_2023['age'].describe()\n"
   ]
  },
  {
   "cell_type": "code",
   "execution_count": null,
   "id": "9b844ce0",
   "metadata": {},
   "outputs": [],
   "source": [
    "# 2019년 코드 (셀 24)\n",
    "sns.histplot(data=welfare_2019, x= 'age')\n"
   ]
  },
  {
   "cell_type": "code",
   "execution_count": null,
   "id": "2e01f16e",
   "metadata": {},
   "outputs": [],
   "source": [
    "\n",
    "# 2023년 코드 (셀 24)\n",
    "sns.histplot(data=welfare_2023, x= 'age')\n"
   ]
  },
  {
   "cell_type": "code",
   "execution_count": null,
   "id": "e644d024",
   "metadata": {},
   "outputs": [],
   "source": [
    "# 폰트 설정\n",
    "mpl.rcParams['font.family'] = 'Malgun Gothic'\n",
    "mpl.rcParams['axes.unicode_minus'] = False  # 음수 기호 제대로 표시\n",
    "\n",
    "# 연령대별 빈도수 집계\n",
    "age_dist_2019 = welfare_2019['age'].value_counts().reset_index()\n",
    "age_dist_2019.columns = ['age', 'Count']\n",
    "age_dist_2019['Year'] = '2019'\n",
    "\n",
    "age_dist_2023 = welfare_2023['age'].value_counts().reset_index()\n",
    "age_dist_2023.columns = ['age', 'Count']\n",
    "age_dist_2023['Year'] = '2023'\n",
    "\n",
    "# 두 데이터프레임 병합\n",
    "age_dist_combined = pd.concat([age_dist_2019, age_dist_2023], ignore_index=True)\n",
    "\n",
    "# 정렬된 연령대 리스트 (공통된 연령대를 기준으로 정렬)\n",
    "age_order = sorted(age_dist_combined['age'].unique(), key=lambda x: int(x))\n",
    "\n",
    "# 차트 생성\n",
    "plt.figure(figsize=(14, 7))\n",
    "sns.barplot(data=age_dist_combined, x='age', y='Count', hue='Year', palette='pastel', order=age_order)\n",
    "\n",
    "# 차트 제목 및 레이블 설정\n",
    "plt.title('2019년과 2023년 나이별 인구수')\n",
    "plt.xlabel('나이')\n",
    "plt.ylabel('명수')\n",
    "\n",
    "# 차트 표시\n",
    "plt.show()"
   ]
  },
  {
   "cell_type": "code",
   "execution_count": null,
   "id": "ef800870",
   "metadata": {},
   "outputs": [],
   "source": [
    "np.random.seed(0)\n",
    "age = np.arange(20, 90)\n",
    "mean_income_2019 = np.random.randint(100, 400, size=len(age))\n",
    "mean_income_2023 = np.random.randint(150, 450, size=len(age))\n",
    "\n",
    "data_2019 = pd.DataFrame({'age': age, 'mean_income': mean_income_2019})\n",
    "data_2023 = pd.DataFrame({'age': age, 'mean_income': mean_income_2023})\n",
    "\n",
    "# 두 개의 subplot 생성\n",
    "fig, axes = plt.subplots(nrows=1, ncols=1, figsize=(10, 6))\n",
    "\n",
    "# 각 subplot에 lineplot 그리기\n",
    "sns.lineplot(data=data_2019, x='age', y='mean_income', ax=axes, label='2019')\n",
    "sns.lineplot(data=data_2023, x='age', y='mean_income', ax=axes, label='2023')\n",
    "\n",
    "# 그래프 제목, 축 레이블 설정\n",
    "axes.set_title('연령대별 평균임금')\n",
    "axes.set_xlabel('연령대')\n",
    "axes.set_ylabel('평균임금')\n",
    "\n",
    "# 범례 표시\n",
    "plt.legend()\n",
    "\n",
    "plt.show()"
   ]
  },
  {
   "cell_type": "code",
   "execution_count": null,
   "id": "6e9b1c11",
   "metadata": {},
   "outputs": [],
   "source": [
    "# 2019년 코드 (셀 25)\n",
    "#나이별 월급 평균\n",
    "age_income_2019 = welfare_2019.dropna(subset=['income19']) \\\n",
    "                   .groupby('age') \\\n",
    "                   .agg(mean_income = ('income19','mean'))\n",
    "age_income_2019\n"
   ]
  },
  {
   "cell_type": "code",
   "execution_count": null,
   "id": "10b1b7e2",
   "metadata": {},
   "outputs": [],
   "source": [
    "\n",
    "# 2023년 코드 (셀 25)\n",
    "#나이별 월급 평균\n",
    "age_income_2023 =welfare_2023.dropna(subset=['income23']) \\\n",
    "                   .groupby('age') \\\n",
    "                   .agg(mean_income = ('income23','mean'))\n",
    "age_income_2023"
   ]
  },
  {
   "cell_type": "code",
   "execution_count": null,
   "id": "4b2d8fa6",
   "metadata": {},
   "outputs": [],
   "source": [
    "# 2019년 코드 (셀 26)\n",
    "sns.lineplot(data=age_income_2019, x='age' ,y='mean_income')\n"
   ]
  },
  {
   "cell_type": "code",
   "execution_count": null,
   "id": "4b7f1aae",
   "metadata": {},
   "outputs": [],
   "source": [
    "\n",
    "# 2023년 코드 (셀 26)\n",
    "sns.lineplot(data=age_income_2023, x='age' ,y='mean_income')"
   ]
  },
  {
   "cell_type": "code",
   "execution_count": null,
   "id": "f9a73944",
   "metadata": {},
   "outputs": [],
   "source": [
    "# 2019년 코드 (셀 27)\n",
    "# 연령대에 따른 임금 차이\n",
    "# 초년층 : 30세미만\n",
    "# 중년층 : 30~59세\n",
    "# 노년층 : 60세 이상\n",
    "\n",
    "\n",
    "# 나이 변수 확인\n",
    "welfare_2019['age'].head()\n"
   ]
  },
  {
   "cell_type": "code",
   "execution_count": null,
   "id": "f37a8b7a",
   "metadata": {},
   "outputs": [],
   "source": [
    "\n",
    "# 2023년 코드 (셀 27)\n",
    "# 연령대에 따른 임금 차이\n",
    "# 초년층 : 30세미만\n",
    "# 중년층 : 30~59세\n",
    "# 노년층 : 60세 이상\n",
    "\n",
    "\n",
    "# 나이 변수 확인\n",
    "welfare_2023['age'].head()"
   ]
  },
  {
   "cell_type": "code",
   "execution_count": null,
   "id": "26b7098b",
   "metadata": {},
   "outputs": [],
   "source": [
    "# 2019년 코드 (셀 28)\n",
    "welfare_2019 =welfare_2019.assign(ageg = np.where(welfare_2019['age'] <  30, 'young',\n",
    "                               np.where(welfare_2019['age'] <= 59, 'middle','old')))\n",
    "\n",
    "welfare_2019['ageg'].value_counts()\n"
   ]
  },
  {
   "cell_type": "code",
   "execution_count": null,
   "id": "e60dae31",
   "metadata": {},
   "outputs": [],
   "source": [
    "\n",
    "# 2023년 코드 (셀 28)\n",
    "welfare_2023 =welfare_2023.assign(ageg = np.where(welfare_2023['age'] <  30, 'young',\n",
    "                               np.where(welfare_2023['age'] <= 59, 'middle','old')))\n",
    "\n",
    "welfare_2023['ageg'].value_counts()"
   ]
  },
  {
   "cell_type": "code",
   "execution_count": null,
   "id": "5e647fdf",
   "metadata": {},
   "outputs": [],
   "source": [
    "# 2019년 코드 (셀 29)\n",
    "# 빈도 그래프\n",
    "sns.countplot(data=welfare_2019, x='ageg')\n"
   ]
  },
  {
   "cell_type": "code",
   "execution_count": null,
   "id": "6bf5491c",
   "metadata": {},
   "outputs": [],
   "source": [
    "\n",
    "# 2023년 코드 (셀 29)\n",
    "# 빈도 그래프\n",
    "sns.countplot(data=welfare_2023, x='ageg')"
   ]
  },
  {
   "cell_type": "code",
   "execution_count": null,
   "id": "aebb8800",
   "metadata": {},
   "outputs": [],
   "source": [
    "# 2019년 코드 (셀 30)\n",
    "# 연령대별로 월급차이\n",
    "# 연령대별로 월급평균\n",
    "ageg_income_2019 = welfare_2019.dropna(subset=['income19']) \\\n",
    "                    .groupby('ageg',as_index=False) \\\n",
    "                    .agg(mean_income=('income19','mean'))\n",
    "ageg_income_2019\n"
   ]
  },
  {
   "cell_type": "code",
   "execution_count": null,
   "id": "c485d43d",
   "metadata": {},
   "outputs": [],
   "source": [
    "\n",
    "# 2023년 코드 (셀 30)\n",
    "# 연령대별로 월급차이\n",
    "# 연령대별로 월급평균\n",
    "ageg_income_2023 = welfare_2023.dropna(subset=['income23']) \\\n",
    "                    .groupby('ageg',as_index=False) \\\n",
    "                    .agg(mean_income=('income23','mean'))\n",
    "ageg_income_2023"
   ]
  },
  {
   "cell_type": "code",
   "execution_count": null,
   "id": "0ed8fb82",
   "metadata": {},
   "outputs": [],
   "source": [
    "# 2019년 코드 (셀 31)\n",
    "# 시각화 -막대 그래프 #정렬전\n",
    "sns.barplot(data=ageg_income_2019,x='ageg',y='mean_income',\n",
    "            order=['young', 'middle','old'])\n"
   ]
  },
  {
   "cell_type": "code",
   "execution_count": null,
   "id": "491d206f",
   "metadata": {},
   "outputs": [],
   "source": [
    "\n",
    "# 2023년 코드 (셀 31)\n",
    "# 시각화 -막대 그래프 #정렬전\n",
    "sns.barplot(data=ageg_income_2023,x='ageg',y='mean_income',\n",
    "            order=['young', 'middle','old'])"
   ]
  },
  {
   "cell_type": "code",
   "execution_count": null,
   "id": "0d31d9f3",
   "metadata": {},
   "outputs": [],
   "source": [
    "# 2019년과 2023년 데이터 결합\n",
    "ageg_income_2019['Year'] = '2019'\n",
    "ageg_income_2023['Year'] = '2023'\n",
    "\n",
    "# 데이터 결합\n",
    "comparison_df = pd.concat([ageg_income_2019, ageg_income_2023], ignore_index=True)\n",
    "\n",
    "# 차트 생성\n",
    "plt.figure(figsize=(12, 6))\n",
    "sns.barplot(data=comparison_df, x='ageg', y='mean_income', hue='Year', order=['young', 'middle', 'old'])\n",
    "\n",
    "# 차트 제목 및 레이블 설정\n",
    "plt.title('연도에 따른 연령 그룹별 평균임금 비교 2019 and 2023', fontsize = 25)\n",
    "plt.xlabel('연령 그룹')\n",
    "plt.ylabel('평균임금')\n",
    "\n",
    "# 차트 표시\n",
    "plt.show()"
   ]
  },
  {
   "cell_type": "markdown",
   "id": "88be14b1",
   "metadata": {},
   "source": [
    "### 연령대 및 성별"
   ]
  },
  {
   "cell_type": "code",
   "execution_count": null,
   "id": "33d4c930",
   "metadata": {},
   "outputs": [],
   "source": [
    "# 2019년 코드 (셀 33)\n",
    "# 연령대 및 성별 평균\n",
    "sex_income_2019 = welfare_2019.dropna(subset=['income19']) \\\n",
    "                    .groupby(['ageg','sex19'],as_index=False) \\\n",
    "                    .agg(mean_income=('income19','mean'))\n",
    "sex_income_2019\n"
   ]
  },
  {
   "cell_type": "code",
   "execution_count": null,
   "id": "39d56a9f",
   "metadata": {},
   "outputs": [],
   "source": [
    "\n",
    "# 2023년 코드 (셀 33)\n",
    "# 연령대 및 성별 평균\n",
    "sex_income_2023 = welfare_2023.dropna(subset=['income23']) \\\n",
    "                    .groupby(['ageg','sex23'],as_index=False) \\\n",
    "                    .agg(mean_income=('income23','mean'))\n",
    "sex_income_2023"
   ]
  },
  {
   "cell_type": "code",
   "execution_count": null,
   "id": "c1c7b49c",
   "metadata": {},
   "outputs": [],
   "source": [
    "# 2019년 코드 (셀 34)\n",
    "# 연령대 및 성별 월급 시각화 # hue <<이거 공부해\n",
    "sns.barplot(data=sex_income_2019,x='ageg',y='mean_income', hue='sex19',\n",
    "            order=['young', 'middle','old'])\n"
   ]
  },
  {
   "cell_type": "code",
   "execution_count": null,
   "id": "af16a74a",
   "metadata": {},
   "outputs": [],
   "source": [
    "\n",
    "# 2023년 코드 (셀 34)\n",
    "# 연령대 및 성별 월급 시각화 # hue <<이거 공부해\n",
    "sns.barplot(data=sex_income_2023,x='ageg',y='mean_income', hue='sex23',\n",
    "            order=['young', 'middle','old'])"
   ]
  },
  {
   "cell_type": "code",
   "execution_count": null,
   "id": "7f8a821e",
   "metadata": {},
   "outputs": [],
   "source": [
    "# 폰트 설정\n",
    "mpl.rcParams['font.family'] = 'Malgun Gothic'\n",
    "mpl.rcParams['axes.unicode_minus'] = False  # 음수 기호 제대로 표시\n",
    "\n",
    "\n",
    "# 2019년 성별별 평균 수입 집계\n",
    "sex_income_2019_summary = sex_income_2019.groupby('sex19')['mean_income'].sum().reset_index()\n",
    "sex_income_2019_summary.columns = ['Sex', 'Mean_Income']\n",
    "sex_income_2019_summary['Year'] = '2019'\n",
    "\n",
    "# 2023년 성별별 평균 수입 집계\n",
    "sex_income_2023_summary = sex_income_2023.groupby('sex23')['mean_income'].sum().reset_index()\n",
    "sex_income_2023_summary.columns = ['Sex', 'Mean_Income']\n",
    "sex_income_2023_summary['Year'] = '2023'\n",
    "\n",
    "# 두 데이터프레임 병합\n",
    "comparison_df = pd.concat([sex_income_2019_summary, sex_income_2023_summary], ignore_index=True)\n",
    "\n",
    "# 파이차트 생성\n",
    "fig, axes = plt.subplots(1, 2, figsize=(20, 8))\n",
    "\n",
    "\n",
    "# 2019년 파이차트\n",
    "axes[0].pie(sex_income_2019_summary['Mean_Income'],\n",
    "            labels=sex_income_2019_summary['Sex'],\n",
    "            autopct='%1.1f%%',\n",
    "            colors=['skyblue', 'pink'],  # 필요에 따라 색상 조정\n",
    "            startangle=140, textprops={'fontsize': 20, 'fontweight':'bold'})\n",
    "axes[0].set_title('2019년', fontsize=20)\n",
    "\n",
    "# 2023년 파이차트\n",
    "axes[1].pie(sex_income_2023_summary['Mean_Income'],\n",
    "            labels=sex_income_2023_summary['Sex'],\n",
    "            autopct='%1.1f%%',\n",
    "            colors=['lightblue', 'lightpink'],  # 필요에 따라 색상 조정\n",
    "            startangle=140, textprops={'fontsize': 20, 'fontweight':'bold'})\n",
    "axes[1].set_title('2023년', fontsize=20)\n",
    "\n",
    "# 전체 제목 및 그리드 추가\n",
    "plt.suptitle('2019년과 2023년 성별에 따른 평균 임금', fontsize=25)\n",
    "plt.grid(True)  # 그리드 추가\n",
    "\n",
    "# 차트 표시\n",
    "plt.show()"
   ]
  },
  {
   "cell_type": "code",
   "execution_count": null,
   "id": "e5970d04",
   "metadata": {},
   "outputs": [],
   "source": [
    "# 2019년 코드 (셀 35)\n",
    "#나이 및 성별 평균값\n",
    "sex_age_2019 =welfare_2019.dropna(subset=['income19']) \\\n",
    "                .groupby(['age','sex19'],as_index=False) \\\n",
    "                .agg(mean_income=('income19','mean'))\n",
    "\n",
    "sex_age_2019.head()\n"
   ]
  },
  {
   "cell_type": "code",
   "execution_count": null,
   "id": "e20ef43a",
   "metadata": {},
   "outputs": [],
   "source": [
    "\n",
    "# 2023년 코드 (셀 35)\n",
    "#나이 및 성별 평균값\n",
    "sex_age_2023 =welfare_2023.dropna(subset=['income23']) \\\n",
    "                .groupby(['age','sex23'],as_index=False) \\\n",
    "                .agg(mean_income=('income23','mean'))\n",
    "\n",
    "sex_age_2023.head()"
   ]
  },
  {
   "cell_type": "code",
   "execution_count": null,
   "id": "fc3ccc4b",
   "metadata": {},
   "outputs": [],
   "source": [
    "# 2019년 코드 (셀 36)\n",
    "# 성별 평균 급여 차이\n",
    "sns.lineplot(data= sex_age_2019, x= 'age',y='mean_income',hue='sex19')\n"
   ]
  },
  {
   "cell_type": "code",
   "execution_count": null,
   "id": "3f6377c4",
   "metadata": {},
   "outputs": [],
   "source": [
    "\n",
    "# 2023년 코드 (셀 36)\n",
    "# 성별 평균 급여 차이\n",
    "sns.lineplot(data= sex_age_2023, x= 'age',y='mean_income',hue='sex23')"
   ]
  },
  {
   "cell_type": "code",
   "execution_count": null,
   "id": "a1da8d0a",
   "metadata": {},
   "outputs": [],
   "source": [
    "# 2019년 데이터의 선 스타일을 점선으로 설정\n",
    "sns.lineplot(data=sex_age_2019, x='age', y='mean_income', hue='sex19',\n",
    "             linestyle='--', palette={'male': 'skyblue', 'female': 'violet'}, legend=False)\n",
    "\n",
    "# 2023년 데이터의 선 스타일을 실선으로 설정\n",
    "sns.lineplot(data=sex_age_2023, x='age', y='mean_income', hue='sex23',\n",
    "             linestyle='-', palette={'male': 'blue', 'female': 'red'}, legend=False)\n",
    "\n",
    "# 범례 핸들 생성\n",
    "legend_handles = [\n",
    "    mlines.Line2D([], [], color='skyblue', linestyle='--', label='2019 male'),\n",
    "    mlines.Line2D([], [], color='violet', linestyle='--', label='2019 female'),\n",
    "    mlines.Line2D([], [], color='blue', linestyle='-', label='2023 male'),\n",
    "    mlines.Line2D([], [], color='red', linestyle='-', label='2023 female')\n",
    "]\n",
    "\n",
    "# 범례 추가\n",
    "plt.legend(handles=legend_handles, title='범례', loc='upper left', bbox_to_anchor=(1.05, 1))\n",
    "\n",
    "# 그래프 제목 및 레이블 설정\n",
    "plt.title('성별에 따른 2019년 대비 2023년 평균수입변화', fontsize = 20)\n",
    "plt.xlabel('나이')\n",
    "plt.ylabel('평균수입')\n",
    "\n",
    "# 그래프 표시\n",
    "plt.show()"
   ]
  },
  {
   "cell_type": "markdown",
   "id": "016a9bb4",
   "metadata": {},
   "source": [
    "### 직업별 월급차이"
   ]
  },
  {
   "cell_type": "code",
   "execution_count": null,
   "id": "abebdf55",
   "metadata": {},
   "outputs": [],
   "source": [
    "# 2019년 코드 (셀 38)\n",
    "#직업 열 속성\n",
    "welfare_2019['code_job19'].dtype\n"
   ]
  },
  {
   "cell_type": "code",
   "execution_count": null,
   "id": "03b5de86",
   "metadata": {},
   "outputs": [],
   "source": [
    "\n",
    "# 2023년 코드 (셀 38)\n",
    "#직업 열 속성\n",
    "welfare_2023['code_job23'].dtype"
   ]
  },
  {
   "cell_type": "code",
   "execution_count": null,
   "id": "02765707",
   "metadata": {},
   "outputs": [],
   "source": [
    "# 2019년 코드 (셀 39)\n",
    "# 잡코드 빈도 수\n",
    "print(welfare_2019['code_job19'].value_counts)\n",
    "\n",
    "# 2023년 코드 (셀 39)\n",
    "# 잡코드 빈도 수\n",
    "print(welfare_2023['code_job23'].value_counts)"
   ]
  },
  {
   "cell_type": "code",
   "execution_count": null,
   "id": "853e2ce4",
   "metadata": {},
   "outputs": [],
   "source": [
    "# 2019년 코드 (셀 40)\n",
    "# 잡코드의 직종 # 엑셀안 시트를 불러오는 코드\n",
    "list_job_2019= pd.read_excel(\"D:/KNY_data/과제/Koweps_Codebook_2019.xlsx\",sheet_name='직종코드')\n",
    "list_job_2019.head()\n"
   ]
  },
  {
   "cell_type": "code",
   "execution_count": null,
   "id": "74af8814",
   "metadata": {},
   "outputs": [],
   "source": [
    "list_job_2019 = list_job_2019.rename(columns={'code_job': 'code_job19'})\n",
    "list_job_2019.head()"
   ]
  },
  {
   "cell_type": "code",
   "execution_count": null,
   "id": "48107666",
   "metadata": {},
   "outputs": [],
   "source": [
    "\n",
    "# 2023년 코드 (셀 40)\n",
    "# 잡코드의 직종 # 엑셀안 시트를 불러오는 코드\n",
    "list_job_2023= pd.read_excel(\"D:/KNY_data/과제/2023 data/Koweps_Codebook_2023.xlsx\",sheet_name='직종코드')\n",
    "list_job_2023 = list_job_2023.rename(columns={'code_job': 'code_job23'})\n",
    "list_job_2023.head()"
   ]
  },
  {
   "cell_type": "code",
   "execution_count": null,
   "id": "c4ac24e5",
   "metadata": {},
   "outputs": [],
   "source": [
    "# 2019년 코드 (셀 41)\n",
    "list_job_2019.shape # 직업군 종류\n"
   ]
  },
  {
   "cell_type": "code",
   "execution_count": null,
   "id": "61b7406d",
   "metadata": {},
   "outputs": [],
   "source": [
    "\n",
    "# 2023년 코드 (셀 41)\n",
    "list_job_2023.shape # 직업군 종류"
   ]
  },
  {
   "cell_type": "code",
   "execution_count": null,
   "id": "5ba31cea",
   "metadata": {},
   "outputs": [],
   "source": [
    "# 2019년 코드 (셀 42)\n",
    "# welfare_2019 에  list_job 결합하기\n",
    "welfare_2019 = welfare_2019.merge(list_job_2019, how='left', on='code_job19')\n",
    "\n"
   ]
  },
  {
   "cell_type": "code",
   "execution_count": null,
   "id": "c32de0c0",
   "metadata": {},
   "outputs": [],
   "source": [
    "\n",
    "# 2023년 코드 (셀 42)\n",
    "# welfare_2023 에  list_job 결합하기\n",
    "welfare_2023 = welfare_2023.merge(list_job_2023,how='left',on= 'code_job23')"
   ]
  },
  {
   "cell_type": "code",
   "execution_count": null,
   "id": "5cc490bc",
   "metadata": {},
   "outputs": [],
   "source": [
    "# 2019년 코드 (셀 43)\n",
    "# code_job 결측지 제거하고 code_job , job 출력\n",
    "welfare_2019.dropna(subset=['code_job19'])[['code_job19','job']].head()\n"
   ]
  },
  {
   "cell_type": "code",
   "execution_count": null,
   "id": "bec30cc4",
   "metadata": {},
   "outputs": [],
   "source": [
    "\n",
    "# 2023년 코드 (셀 43)\n",
    "# code_job 결측지 제거하고 code_job , job 출력\n",
    "welfare_2023.dropna(subset=['code_job23'])[['code_job23','job']].head()"
   ]
  },
  {
   "cell_type": "code",
   "execution_count": null,
   "id": "a5b7b04e",
   "metadata": {},
   "outputs": [],
   "source": [
    "# 2019년 코드 (셀 44)\n",
    "# 직업별 월급 평균\n",
    "# 1.job ,income 결측지 제거\n",
    "# 2.job 분리\n",
    "# 3.income 평균\n",
    "job_income_2019 = welfare_2019.dropna(subset=['code_job19','income19']) \\\n",
    "                    .groupby('job', as_index=False) \\\n",
    "                    .agg(mean_income = ('income19','mean'))\n",
    "job_income_2019.head()\n"
   ]
  },
  {
   "cell_type": "code",
   "execution_count": null,
   "id": "6ecae95e",
   "metadata": {},
   "outputs": [],
   "source": [
    "\n",
    "# 2023년 코드 (셀 44)\n",
    "# 직업별 월급 평균\n",
    "# 1.job ,income 결측지 제거\n",
    "# 2.job 분리\n",
    "# 3.income 평균\n",
    "job_income_2023 = welfare_2023.dropna(subset=['income23','income23']) \\\n",
    "                    .groupby('job', as_index=False) \\\n",
    "                    .agg(mean_income = ('income23','mean'))\n",
    "job_income_2023.head()"
   ]
  },
  {
   "cell_type": "code",
   "execution_count": null,
   "id": "c7cd9b5d",
   "metadata": {},
   "outputs": [],
   "source": [
    "# 2019년 코드 (셀 45)\n",
    "# 상위 10위 추출\n",
    "top10_2019 = job_income_2019.sort_values('mean_income',ascending=False).head(10)\n",
    "top10_2019\n",
    "\n"
   ]
  },
  {
   "cell_type": "code",
   "execution_count": null,
   "id": "1aec12d6",
   "metadata": {},
   "outputs": [],
   "source": [
    "\n",
    "# 2023년 코드 (셀 45)\n",
    "# 상위 10위 추출\n",
    "top10_2023 = job_income_2023.sort_values('mean_income',ascending=False).head(10)\n",
    "top10_2023\n"
   ]
  },
  {
   "cell_type": "code",
   "execution_count": null,
   "id": "7b4796a4",
   "metadata": {},
   "outputs": [],
   "source": [
    "# 2019년 코드 (셀 46)\n",
    "import matplotlib.pyplot as plt\n",
    "plt.rcParams.update({'font.family' : \"Malgun Gothic\"})\n",
    "\n",
    "# 2023년 코드 (셀 46)\n",
    "import matplotlib.pyplot as plt\n",
    "plt.rcParams.update({'font.family' : \"Malgun Gothic\"})"
   ]
  },
  {
   "cell_type": "code",
   "execution_count": null,
   "id": "23428b13",
   "metadata": {},
   "outputs": [],
   "source": [
    "# 2019년 코드 (셀 47)\n",
    "# 위에 데이터 내용을 시각화\n",
    "sns.barplot(data= top10_2019, y='job',x='mean_income' )\n"
   ]
  },
  {
   "cell_type": "code",
   "execution_count": null,
   "id": "d774871a",
   "metadata": {},
   "outputs": [],
   "source": [
    "\n",
    "# 2023년 코드 (셀 47)\n",
    "# 위에 데이터 내용을 시각화\n",
    "sns.barplot(data= top10_2023, y='job',x='mean_income' )"
   ]
  },
  {
   "cell_type": "code",
   "execution_count": null,
   "id": "f130e1c0",
   "metadata": {},
   "outputs": [],
   "source": [
    "\n",
    "# 데이터 준비 (예시로 top10_2019와 top10_2023 데이터프레임이 있다고 가정)\n",
    "top10_2019['year'] = 2019\n",
    "top10_2023['year'] = 2023\n",
    "\n",
    "# 두 데이터프레임을 하나로 결합\n",
    "combined_data = pd.concat([top10_2023, top10_2019])\n",
    "\n",
    "# 색상 설정\n",
    "palette = {2023: '#4158A6', 2019: '#FF8343'}\n",
    "\n",
    "# 시각화\n",
    "plt.figure(figsize=(12, 10))\n",
    "sns.barplot(data=combined_data, y='job', x='mean_income', hue='year', palette=palette)\n",
    "\n",
    "# 그래프 타이틀과 레이블 설정\n",
    "plt.title('2019년과 2023년의 평균임금 상위 10개 직업군', fontsize = 25)\n",
    "plt.xlabel('평균임금', fontsize = 15)\n",
    "plt.ylabel('직업군', fontsize = 15)\n",
    "\n",
    "# 범례 위치 조정\n",
    "plt.legend(title='Year')\n",
    "\n",
    "plt.show()\n"
   ]
  },
  {
   "cell_type": "code",
   "execution_count": null,
   "id": "86e93b00",
   "metadata": {},
   "outputs": [],
   "source": [
    "# 2019년 코드 (셀 48)\n",
    "# 하위 10위 추출\n",
    "bottom10_2019 =job_income_2019.sort_values('mean_income').head(10)\n",
    "bottom10_2019\n"
   ]
  },
  {
   "cell_type": "code",
   "execution_count": null,
   "id": "7235172d",
   "metadata": {},
   "outputs": [],
   "source": [
    "\n",
    "# 2023년 코드 (셀 48)\n",
    "# 하위 10위 추출\n",
    "bottom10_2023 =job_income_2023.sort_values('mean_income').head(10)\n",
    "bottom10_2023"
   ]
  },
  {
   "cell_type": "code",
   "execution_count": null,
   "id": "1b76832c",
   "metadata": {},
   "outputs": [],
   "source": [
    "# 2019년 코드 (셀 49)\n",
    "sns.barplot(data= bottom10_2019, y='job',x='mean_income').set(xlim= (0,800))\n"
   ]
  },
  {
   "cell_type": "code",
   "execution_count": null,
   "id": "08e315e2",
   "metadata": {},
   "outputs": [],
   "source": [
    "\n",
    "# 2023년 코드 (셀 49)\n",
    "sns.barplot(data= bottom10_2023, y='job',x='mean_income').set(xlim= (0,800))"
   ]
  },
  {
   "cell_type": "code",
   "execution_count": null,
   "id": "84911bec",
   "metadata": {},
   "outputs": [],
   "source": [
    "\n",
    "# 데이터 준비 (예시로 top10_2019와 top10_2023 데이터프레임이 있다고 가정)\n",
    "bottom10_2019['year'] = 2019\n",
    "bottom10_2023['year'] = 2023\n",
    "\n",
    "# 두 데이터프레임을 하나로 결합\n",
    "combined_data = pd.concat([bottom10_2023, bottom10_2019])\n",
    "\n",
    "# 색상 설정\n",
    "palette = {2023: '#4158A6', 2019: '#FF8343'}\n",
    "\n",
    "# 시각화\n",
    "plt.figure(figsize=(12, 10))\n",
    "sns.barplot(data=combined_data, y='job', x='mean_income', hue='year', palette=palette)\n",
    "\n",
    "# 그래프 타이틀과 레이블 설정\n",
    "plt.title('2019년과 2023년의 평균임금 하위 10개 직업군', fontsize = 25)\n",
    "plt.xlabel('평균임금', fontsize = 15)\n",
    "plt.ylabel('직업군', fontsize = 15)\n",
    "\n",
    "# 범례 위치 조정\n",
    "plt.legend(title='Year')\n",
    "\n",
    "plt.show()\n"
   ]
  },
  {
   "cell_type": "markdown",
   "id": "8bbd8454",
   "metadata": {},
   "source": [
    "### 성별 직업 빈도"
   ]
  },
  {
   "cell_type": "code",
   "execution_count": null,
   "id": "3674551b",
   "metadata": {},
   "outputs": [],
   "source": [
    "print(welfare_2019.head)\n"
   ]
  },
  {
   "cell_type": "code",
   "execution_count": null,
   "id": "bf28b512",
   "metadata": {},
   "outputs": [],
   "source": [
    "# # 남성 직업 빈도 상위 10개 추출\n",
    "# # 1. 결측치 제거\n",
    "# filtered_data = welfare_2019.dropna(subset=['job', 'sex19'])\n",
    "\n",
    "# # 2. Boolean 인덱싱을 사용하여 성별이 'male'인 데이터 필터링\n",
    "# filtered_data = filtered_data[filtered_data['sex19'] == 'male']\n",
    "\n",
    "# # 3. 직업별 빈도 계산\n",
    "# job_male_2019 = (\n",
    "#     filtered_data\n",
    "#     .groupby('job', as_index=False)\n",
    "#     .agg(n=('job', 'count'))\n",
    "#     .sort_values('n', ascending=False)\n",
    "#     .head(10)\n",
    "# )\n",
    "\n",
    "# job_male_2019"
   ]
  },
  {
   "cell_type": "code",
   "execution_count": null,
   "id": "e65b8e76",
   "metadata": {},
   "outputs": [],
   "source": [
    "# 2019년 코드 (셀 51)\n",
    "# 남성 직업 빈도 상위 10개 추출\n",
    "# query 때문에 계속 에러가 나서 위에 있는 Boolean 인덱싱 사용\n",
    "job_male_2019 = welfare_2019.dropna(subset= ['job']) \\\n",
    "                 .query('sex19 == \"male\"') \\\n",
    "                 .groupby('job', as_index=False) \\\n",
    "                 .agg(n = ('job','count')) \\\n",
    "                 .sort_values('n',ascending=False) \\\n",
    "                 .head(10)\n",
    "job_male_2019\n"
   ]
  },
  {
   "cell_type": "code",
   "execution_count": null,
   "id": "85a76aa7",
   "metadata": {},
   "outputs": [],
   "source": [
    "# 2023 남성 직업 빈도 상위 10개 추출\n",
    "# 1. 결측치 제거\n",
    "filtered_data = welfare_2023.dropna(subset=['job', 'sex23'])\n",
    "\n",
    "# 2. Boolean 인덱싱을 사용하여 성별이 'male'인 데이터 필터링\n",
    "filtered_data = filtered_data[filtered_data['sex23'] == 'male']\n",
    "\n",
    "# 3. 직업별 빈도 계산\n",
    "job_male_2023 = (\n",
    "    filtered_data\n",
    "    .groupby('job', as_index=False)\n",
    "    .agg(n=('job', 'count'))\n",
    "    .sort_values('n', ascending=False)\n",
    "    .head(10)\n",
    ")\n",
    "\n",
    "job_male_2023"
   ]
  },
  {
   "cell_type": "code",
   "execution_count": null,
   "id": "983f833b",
   "metadata": {},
   "outputs": [],
   "source": [
    "# 2023년 코드 (셀 51)\n",
    "# 남성 직업 빈도 상위 10개 추출\n",
    "# query 때문에 계속 에러가 나서 위에 있는 Boolean 인덱싱 사용\n",
    "job_male_2023 =welfare_2023.dropna(subset= ['job']) \\\n",
    "                 .query('sex23 == \"male\"') \\\n",
    "                 .groupby('job', as_index=False) \\\n",
    "                 .agg(n = ('job','count')) \\\n",
    "                 .sort_values('n',ascending=False) \\\n",
    "                 .head(10)\n",
    "job_male_2023\n"
   ]
  },
  {
   "cell_type": "code",
   "execution_count": null,
   "id": "c7f4f9ef",
   "metadata": {},
   "outputs": [],
   "source": [
    "# 2023, 2019 남성 직업 빈도 상위 10개 추출\n",
    "\n",
    "job_male_2023, job_male_2019\n"
   ]
  },
  {
   "cell_type": "code",
   "execution_count": null,
   "id": "4bd0b492",
   "metadata": {},
   "outputs": [],
   "source": [
    "# # 2019년 코드 (셀 52)\n",
    "job_Female_2019 =welfare_2019.dropna(subset= ['job']) \\\n",
    "                 .query('sex19 == \"female\"') \\\n",
    "                 .groupby('job', as_index=False) \\\n",
    "                 .agg(n = ('job','count')) \\\n",
    "                 .sort_values('n',ascending=False) \\\n",
    "                 .head(10)\n",
    "job_Female_2019\n"
   ]
  },
  {
   "cell_type": "code",
   "execution_count": null,
   "id": "3b951b2d",
   "metadata": {},
   "outputs": [],
   "source": [
    "# 여성 직업 빈도 상위 10개 추출\n",
    "# 1. 결측치 제거\n",
    "filtered_data = welfare_2019.dropna(subset=['job', 'sex19'])\n",
    "\n",
    "# 2. Boolean 인덱싱을 사용하여 성별이 'female'인 데이터 필터링\n",
    "filtered_data = filtered_data[filtered_data['sex19'] == 'female']\n",
    "\n",
    "# 3. 직업별 빈도 계산\n",
    "job_Female_2019 = (\n",
    "    filtered_data\n",
    "    .groupby('job', as_index=False)\n",
    "    .agg(n=('job', 'count'))\n",
    "    .sort_values('n', ascending=False)\n",
    "    .head(10)\n",
    ")\n",
    "\n",
    "job_Female_2019"
   ]
  },
  {
   "cell_type": "code",
   "execution_count": null,
   "id": "1c416787",
   "metadata": {},
   "outputs": [],
   "source": [
    "\n",
    "# # 2023년 코드 (셀 52)\n",
    "job_Female_2023 =welfare_2023.dropna(subset= ['job']) \\\n",
    "                 .query('sex23 == \"female\"') \\\n",
    "                 .groupby('job', as_index=False) \\\n",
    "                 .agg(n = ('job','count')) \\\n",
    "                 .sort_values('n',ascending=False) \\\n",
    "                 .head(10)\n",
    "job_Female_2023"
   ]
  },
  {
   "cell_type": "code",
   "execution_count": null,
   "id": "da2b0b60",
   "metadata": {},
   "outputs": [],
   "source": [
    "filtered_data = welfare_2023.dropna(subset=['job', 'sex23'])\n",
    "\n",
    "# 2. Boolean 인덱싱을 사용하여 성별이 'female'인 데이터 필터링\n",
    "filtered_data = filtered_data[filtered_data['sex23'] == 'female']\n",
    "\n",
    "# 3. 직업별 빈도 계산\n",
    "job_Female_2023 = (\n",
    "    filtered_data\n",
    "    .groupby('job', as_index=False)\n",
    "    .agg(n=('job', 'count'))\n",
    "    .sort_values('n', ascending=False)\n",
    "    .head(10)\n",
    ")\n",
    "\n",
    "job_Female_2023"
   ]
  },
  {
   "cell_type": "code",
   "execution_count": null,
   "id": "030cd719",
   "metadata": {},
   "outputs": [],
   "source": [
    "print(welfare_2019.head())\n"
   ]
  },
  {
   "cell_type": "code",
   "execution_count": null,
   "id": "f978685a",
   "metadata": {},
   "outputs": [],
   "source": [
    "# 2019년 코드 (셀 53)\n",
    "# 남성 직업 빈도 막대 그래프\n",
    "sns.barplot(data= job_male_2019, y='job', x='n').set(xlim= (0,800))\n"
   ]
  },
  {
   "cell_type": "code",
   "execution_count": null,
   "id": "cabd18b2",
   "metadata": {},
   "outputs": [],
   "source": [
    "\n",
    "# 2023년 코드 (셀 53)\n",
    "# 남성 직업 빈도 막대 그래프\n",
    "sns.barplot(data= job_male_2023, y='job', x='n').set(xlim= (0,800))"
   ]
  },
  {
   "cell_type": "code",
   "execution_count": null,
   "id": "6f85a0ac",
   "metadata": {},
   "outputs": [],
   "source": [
    "# 2019년 코드 (셀 54)\n",
    "sns.barplot(data= job_Female_2019, y='job', x='n').set(xlim= (0,800))\n"
   ]
  },
  {
   "cell_type": "code",
   "execution_count": null,
   "id": "38bc6ed9",
   "metadata": {},
   "outputs": [],
   "source": [
    "\n",
    "# 2023년 코드 (셀 54)\n",
    "sns.barplot(data= job_Female_2023, y='job', x='n').set(xlim= (0,800))"
   ]
  },
  {
   "cell_type": "code",
   "execution_count": null,
   "id": "8a0da286",
   "metadata": {},
   "outputs": [],
   "source": [
    "# 연도 정보 추가\n",
    "job_Female_2019['year'] = 2019\n",
    "job_Female_2023['year'] = 2023\n",
    "\n",
    "# 데이터프레임 통합\n",
    "combined_job_data = pd.concat([job_Female_2019, job_Female_2023])\n",
    "\n",
    "# 색상 설정\n",
    "palette = {2023: '#4158A6', 2019: '#FF8343'}\n",
    "\n",
    "# 시각화\n",
    "plt.figure(figsize=(12, 8))\n",
    "sns.barplot(data=combined_job_data, y='job', x='n', hue='year', palette=palette)\n",
    "\n",
    "# x축 범위 설정\n",
    "plt.xlim(0, 900)  # x축 범위는 데이터에 맞게 조정합니다.\n",
    "\n",
    "# 그래프 제목과 레이블 설정\n",
    "plt.title('여성 직업 빈도 상위 10개 (2019년 vs 2023년)', fontsize=25)\n",
    "plt.xlabel('빈도수', fontsize=15)\n",
    "plt.ylabel('직업', fontsize=15)\n",
    "\n",
    "# 범례 표시\n",
    "plt.legend(title='Year')\n",
    "\n",
    "# 차트 표시\n",
    "plt.show()"
   ]
  },
  {
   "cell_type": "markdown",
   "id": "e775aa34",
   "metadata": {},
   "source": [
    "### 종교 유무에 따른 이혼율"
   ]
  },
  {
   "cell_type": "code",
   "execution_count": null,
   "id": "e38f96cb",
   "metadata": {},
   "outputs": [],
   "source": [
    "# 타입확인\n",
    "print(welfare_2023['religion23'].dtype)\n",
    "print(welfare_2019['religion19'].dtype)"
   ]
  },
  {
   "cell_type": "code",
   "execution_count": null,
   "id": "c1668f4a",
   "metadata": {},
   "outputs": [],
   "source": [
    "#빈도수\n",
    "print(welfare_2023['religion23'].value_counts())\n",
    "print(welfare_2019['religion19'].value_counts())"
   ]
  },
  {
   "cell_type": "code",
   "execution_count": null,
   "id": "cf0045b4",
   "metadata": {},
   "outputs": [],
   "source": [
    "#2023\n",
    "# 전처리 - 1 : 있음, 2 : 없음, 9: 모름/무응답 \n",
    "# 종교 유무 이름 부여 \n",
    "welfare_2023['religion23'] = np.where(welfare_2023['religion23'] == 1, 'Yes', 'No')\n",
    "\n",
    "# 빈도구하기\n",
    "print(welfare_2023['religion23'].value_counts())\n",
    "\n",
    "\n",
    "#2019\n",
    "# 전처리 - 1 : 있음, 2 : 없음, 9: 모름/무응답 \n",
    "# 종교 유무 이름 부여 \n",
    "welfare_2019['religion19'] = np.where(welfare_2019['religion19'] == 1, 'Yes', 'No')\n",
    "\n",
    "# 빈도구하기\n",
    "print(welfare_2019['religion19'].value_counts())"
   ]
  },
  {
   "cell_type": "code",
   "execution_count": null,
   "id": "748105f4",
   "metadata": {},
   "outputs": [],
   "source": [
    "# 시각화\n",
    "sns.countplot(data=welfare_2023, x='religion23')\n",
    "\n",
    "sns.countplot(data=welfare_2019, x='religion19')"
   ]
  },
  {
   "cell_type": "code",
   "execution_count": null,
   "id": "29e267c9",
   "metadata": {},
   "outputs": [],
   "source": [
    "# 혼인 상태 여부\n",
    "welfare_2023['marriage_type23'].dtype\n",
    "welfare_2019['marriage_type19'].dtype"
   ]
  },
  {
   "cell_type": "code",
   "execution_count": null,
   "id": "565868a0",
   "metadata": {},
   "outputs": [],
   "source": [
    "# 항목별 빈도수\n",
    "welfare_2023['marriage_type23'].value_counts()\n",
    "welfare_2019['marriage_type19'].value_counts()"
   ]
  },
  {
   "cell_type": "code",
   "execution_count": null,
   "id": "b39ecca5",
   "metadata": {},
   "outputs": [],
   "source": [
    "# 이혼여부 \n",
    "# 0.비해당(18세 미만) 1.유배우  2.사별  3.이혼   4.별거 \n",
    "# 5.미혼(18세이상, 미혼모 포함)   6.기타(사망 등)\n",
    "# => 1 : marriage, 3: divorce, - 그외: etc \n",
    "\n",
    "welfare_2023['marriage23'] = np.where(welfare_2023['marriage_type23'] == 1, 'marriage', \n",
    "                      np.where(welfare_2023['marriage_type23'] == 3, 'divorce', 'etc'))\n",
    "\n",
    "welfare_2019['marriage19'] = np.where(welfare_2019['marriage_type19'] == 1, 'marriage', \n",
    "                      np.where(welfare_2019['marriage_type19'] == 3, 'divorce', 'etc'))\n"
   ]
  },
  {
   "cell_type": "code",
   "execution_count": null,
   "id": "ad164cec",
   "metadata": {},
   "outputs": [],
   "source": [
    "# 이혼 여부 별 빈도\n",
    "n_divorce = welfare_2023.groupby('marriage23', as_index=False) \\\n",
    "                   .agg(n = ('marriage23', 'count'))\n",
    "n_divorce\n",
    "\n",
    "n_divorce19 = welfare_2019.groupby('marriage19', as_index=False) \\\n",
    "                   .agg(n = ('marriage19', 'count'))\n",
    "n_divorce19\n"
   ]
  },
  {
   "cell_type": "code",
   "execution_count": null,
   "id": "6edf7402",
   "metadata": {},
   "outputs": [],
   "source": [
    "sns.barplot(data= n_divorce, x= 'marriage23', y= 'n')\n",
    "sns.barplot(data= n_divorce19, x= 'marriage19', y= 'n')"
   ]
  },
  {
   "cell_type": "code",
   "execution_count": null,
   "id": "17fb09ce",
   "metadata": {},
   "outputs": [],
   "source": [
    "# 연도별 데이터를 결합하기 위해 year 열 추가\n",
    "n_divorce['year'] = 2023\n",
    "n_divorce19['year'] = 2019\n",
    "\n",
    "# 두 데이터프레임을 결합\n",
    "combined_data = pd.concat([\n",
    "    n_divorce.rename(columns={'marriage23': 'marriage'}),\n",
    "    n_divorce19.rename(columns={'marriage19': 'marriage'})\n",
    "])"
   ]
  },
  {
   "cell_type": "code",
   "execution_count": null,
   "id": "eeff39f4",
   "metadata": {},
   "outputs": [],
   "source": [
    "# 그래프 그리기\n",
    "sns.barplot(data=combined_data, x='marriage', y='n', hue='year', palette='pastel',\n",
    "            order= ['divorce', 'marriage', 'etc'])\n",
    "\n",
    "# 차트 제목 및 레이블 설정\n",
    "plt.title('2019년과 2023년의 혼인상태', fontsize =20)\n",
    "plt.xlabel('혼인 상태')\n",
    "plt.ylabel('n')\n",
    "\n",
    "plt.show()"
   ]
  },
  {
   "cell_type": "code",
   "execution_count": null,
   "id": "d900fc22",
   "metadata": {},
   "outputs": [],
   "source": [
    "# 그래프 그리기\n",
    "ax = sns.barplot(data=combined_data, x='marriage', y='n', hue='year', palette='pastel',\n",
    "                 order=['divorce', 'marriage', 'etc'])\n",
    "\n",
    "# 차트 제목 및 레이블 설정\n",
    "plt.title('연도별 혼인상태 변화', fontsize=20)\n",
    "plt.xlabel('혼인 상태')\n",
    "plt.ylabel('n')\n",
    "\n",
    "# 막대에 숫자 표시\n",
    "for p in ax.patches:\n",
    "    height = p.get_height()\n",
    "    ax.annotate(f'{height:.0f}', \n",
    "                (p.get_x() + p.get_width() / 2., height),\n",
    "                ha='center', va='center',\n",
    "                fontsize=10, color='black',\n",
    "                xytext=(0, 5), textcoords='offset points')\n",
    "\n",
    "plt.show()"
   ]
  },
  {
   "cell_type": "code",
   "execution_count": null,
   "id": "eca1fde7",
   "metadata": {},
   "outputs": [],
   "source": [
    "# 종교 유무에 따른 이혼율 분석 \n",
    "# etc 제외 \n",
    "# religion별 분리 \n",
    "# marriage 추출 \n",
    "# 비율 구하기 \n",
    "rel_dev = welfare_2023.query('marriage23 != \"etc\"') \\\n",
    "                 .groupby('religion23', as_index=False) \\\n",
    "                 ['marriage23'] \\\n",
    "                 .value_counts(normalize=True)\n",
    "\n",
    "print(rel_dev)\n",
    "\n",
    "rel_dev19 = welfare_2019.query('marriage19 != \"etc\"') \\\n",
    "                 .groupby('religion19', as_index=False) \\\n",
    "                 ['marriage19'] \\\n",
    "                 .value_counts(normalize=True)\n",
    "\n",
    "print(rel_dev19)"
   ]
  },
  {
   "cell_type": "code",
   "execution_count": null,
   "id": "a2c6a05a",
   "metadata": {},
   "outputs": [],
   "source": [
    "# 전처리 \n",
    "# divorce 추출 \n",
    "# 이혼에 해당하는 값만 추출 후 proportion을 백분율로 바꾸고 \n",
    "# 소수점 첫째자리까지 반올림 \n",
    "\n",
    "rel_dev = rel_dev.query('marriage23 == \"divorce\"') \\\n",
    "                 .assign(proportion = rel_dev['proportion'] * 100) \\\n",
    "                 .round(1)\n",
    "print(rel_dev)\n",
    "print()\n",
    "\n",
    "rel_dev19 = rel_dev19.query('marriage19 == \"divorce\"') \\\n",
    "                 .assign(proportion = rel_dev19['proportion'] * 100) \\\n",
    "                 .round(1)\n",
    "print(rel_dev19)"
   ]
  },
  {
   "cell_type": "code",
   "execution_count": null,
   "id": "10ebf8c8",
   "metadata": {},
   "outputs": [],
   "source": [
    "# 2023년 데이터에 year 열 추가\n",
    "rel_dev['year'] = 2023\n",
    "rel_dev = rel_dev.rename(columns={'marriage23': 'marriage', 'religion23': 'religion'})\n",
    "\n",
    "# 2019년 데이터에 year 열 추가\n",
    "rel_dev19['year'] = 2019\n",
    "rel_dev19 = rel_dev19.rename(columns={'marriage19': 'marriage', 'religion19': 'religion'})\n",
    "\n",
    "# 두 데이터를 결합\n",
    "combined_data = pd.concat([rel_dev, rel_dev19])"
   ]
  },
  {
   "cell_type": "code",
   "execution_count": null,
   "id": "f1ef76ca",
   "metadata": {},
   "outputs": [],
   "source": [
    "# 그래프 그리기\n",
    "sns.barplot(data=combined_data, x='religion', y='proportion', hue='year', palette='pastel')\n",
    "plt.xlabel('종교')\n",
    "plt.ylabel('이혼율 (%)')\n",
    "plt.title('연도에 따른 종교별 이혼율', fontsize = 20)\n",
    "plt.show()"
   ]
  },
  {
   "cell_type": "code",
   "execution_count": null,
   "id": "897f206d",
   "metadata": {},
   "outputs": [],
   "source": [
    "# 그래프 그리기\n",
    "plt.figure(figsize=(10, 6))\n",
    "ax = sns.barplot(data=combined_data, x='religion', y='proportion', hue='year', palette='pastel')\n",
    "\n",
    "# 막대 위에 이혼율 값을 표시\n",
    "for p in ax.patches:\n",
    "    height = p.get_height()  # 막대의 높이 (이혼율)\n",
    "    ax.text(\n",
    "        p.get_x() + p.get_width() / 2,  # 막대의 x 좌표\n",
    "        height + 0.1,  # y 좌표 (막대의 높이 위)\n",
    "        f'{height:.1f}%',  # 표시할 텍스트 (이혼율 값)\n",
    "        ha='center'  # 텍스트의 수평 정렬\n",
    "    )\n",
    "\n",
    "# 그래프 레이블 및 제목 설정\n",
    "plt.xlabel('종교')\n",
    "plt.ylabel('이혼율 (%)')\n",
    "plt.title('종교별 이혼율', fontsize=20)\n",
    "plt.show()"
   ]
  },
  {
   "cell_type": "code",
   "execution_count": null,
   "id": "199b399e",
   "metadata": {},
   "outputs": [],
   "source": [
    "# 연한 파랑과 연한 빨강 색상 정의\n",
    "palette = ['lightblue', 'lightcoral']\n",
    "\n",
    "# 그래프 그리기\n",
    "plt.figure(figsize=(10, 6))\n",
    "ax = sns.barplot(data=combined_data, x='year', y='proportion', hue='religion', palette=palette)\n",
    "\n",
    "# 막대 위에 이혼율 값을 표시\n",
    "for p in ax.patches:\n",
    "    height = p.get_height()  # 막대의 높이 (이혼율)\n",
    "    ax.text(\n",
    "        p.get_x() + p.get_width() / 2,  # 막대의 x 좌표\n",
    "        height + 0.1,  # y 좌표 (막대의 높이 위)\n",
    "        f'{height:.1f}%',  # 표시할 텍스트 (이혼율 값)\n",
    "        ha='center',  # 텍스트의 수평 정렬\n",
    "        fontsize=10,  # 텍스트의 크기\n",
    "        color='black'  # 텍스트 색상\n",
    "    )\n",
    "\n",
    "# 그래프 레이블 및 제목 설정\n",
    "plt.xlabel('연도')\n",
    "plt.ylabel('이혼율 (%)')\n",
    "plt.title('연도에 따른 종교별 이혼율', fontsize=20)\n",
    "\n",
    "# 범례 설정\n",
    "plt.legend(title='종교', title_fontsize='13', fontsize='11')\n",
    "\n",
    "plt.show()"
   ]
  },
  {
   "cell_type": "markdown",
   "id": "a911aa9e",
   "metadata": {},
   "source": [
    "### 연령대 및 종교 유무에 따른 이혼율 분석"
   ]
  },
  {
   "cell_type": "code",
   "execution_count": null,
   "id": "a9bfea6b",
   "metadata": {},
   "outputs": [],
   "source": [
    "# 2019년 코드 (셀 69)\n",
    "age_div19 =welfare_2019.query('marriage19 ! =\"etc\"') \\\n",
    "                .groupby('ageg',as_index=False) \\\n",
    "                ['marriage19'] \\\n",
    "                .value_counts(normalize=True)\n",
    "\n",
    "print(age_div19)\n",
    "print()\n",
    "\n",
    "# 2023년 코드 (셀 69)\n",
    "age_div23 =welfare_2023.query('marriage23 ! =\"etc\"') \\\n",
    "                .groupby('ageg',as_index=False) \\\n",
    "                ['marriage23'] \\\n",
    "                .value_counts(normalize=True)\n",
    "\n",
    "print(age_div23)"
   ]
  },
  {
   "cell_type": "code",
   "execution_count": null,
   "id": "083ae16d",
   "metadata": {},
   "outputs": [],
   "source": [
    "# 2019년 코드 (셀 70)\n",
    "# 연령대 및 이혼 여부별 빈도\n",
    "welfare_2019.query('marriage19 ! =\"etc\"') \\\n",
    "       .groupby('ageg',as_index=False) \\\n",
    "       ['marriage19'] \\\n",
    "       .value_counts()\n",
    "\n",
    "\n",
    "# 2023년 코드 (셀 70)\n",
    "# 연령대 및 이혼 여부별 빈도\n",
    "welfare_2023.query('marriage23 ! =\"etc\"') \\\n",
    "       .groupby('ageg',as_index=False) \\\n",
    "       ['marriage23'] \\\n",
    "       .value_counts()\n"
   ]
  },
  {
   "cell_type": "code",
   "execution_count": null,
   "id": "b32751ab",
   "metadata": {},
   "outputs": [],
   "source": [
    "# 2019년 코드 (셀 71)\n",
    "# 연령대별 이혼율 그래프\n",
    "#초년 제외, 이혼 추출\n",
    "age_div19 = age_div19.query('ageg !=\"young\" & marriage19 == \"divorce\"') \\\n",
    "                 .assign(proportion =age_div19['proportion']* 100) \\\n",
    "                 .round(1)\n",
    "\n",
    "age_div19\n",
    "\n",
    "# 2023년 코드 (셀 71)\n",
    "# 연령대별 이혼율 그래프\n",
    "#초년 제외, 이혼 추출\n",
    "age_div23 = age_div23.query('ageg !=\"young\" & marriage23 == \"divorce\"') \\\n",
    "                 .assign(proportion =age_div23['proportion']* 100) \\\n",
    "                 .round(1)\n",
    "\n",
    "age_div23"
   ]
  },
  {
   "cell_type": "code",
   "execution_count": null,
   "id": "4c2cc39e",
   "metadata": {},
   "outputs": [],
   "source": [
    "# 2019년 코드 (셀 72)\n",
    "sns.barplot(data=age_div19,x='ageg',y='proportion')\n",
    "\n",
    "# 2023년 코드 (셀 72)\n",
    "sns.barplot(data=age_div23,x='ageg',y='proportion')"
   ]
  },
  {
   "cell_type": "code",
   "execution_count": null,
   "id": "4e7a0a28",
   "metadata": {},
   "outputs": [],
   "source": [
    "# 2019년과 2023년 데이터를 결합\n",
    "age_div19['Year'] = '2019'\n",
    "age_div23['Year'] = '2023'\n",
    "\n",
    "# 필요한 열만 선택하고 이름을 일치시킵니다\n",
    "data_2019 = age_div19[['ageg', 'proportion', 'Year']]\n",
    "data_2023 = age_div23[['ageg', 'proportion', 'Year']]\n",
    "\n",
    "# 두 데이터프레임 병합\n",
    "combined_age_div = pd.concat([data_2019, data_2023], ignore_index=True)"
   ]
  },
  {
   "cell_type": "code",
   "execution_count": null,
   "id": "102cb974",
   "metadata": {},
   "outputs": [],
   "source": [
    "# 그래프 그리기\n",
    "plt.figure(figsize=(10, 6))\n",
    "sns.barplot(data=combined_age_div, x='ageg', y='proportion', hue='Year', palette='pastel')\n",
    "\n",
    "plt.xlabel('연령대')\n",
    "plt.ylabel('이혼율 (%)')\n",
    "plt.title('연령대별 이혼율', fontsize=20)\n",
    "plt.legend(title='Year')\n",
    "plt.xticks(rotation=45)  # X축 레이블 회전\n",
    "plt.tight_layout()  # 그래프 요소들 간의 여백 조정\n",
    "plt.show()"
   ]
  },
  {
   "cell_type": "code",
   "execution_count": null,
   "id": "c55aef35",
   "metadata": {},
   "outputs": [],
   "source": [
    "# 2019년 코드 (셀 71)\n",
    "# 연령대별 이혼율 그래프\n",
    "#초년 제외, 이혼 추출\n",
    "age_div19 = age_div19.query('ageg !=\"young\"& marriage19 == \"divorce\"') \\\n",
    "                 .assign(proportion =age_div19['proportion']* 100) \\\n",
    "                 .round(1)\n",
    "\n",
    "age_div19\n",
    "\n",
    "# 2023년 코드 (셀 71)\n",
    "# 연령대별 이혼율 그래프\n",
    "#초년 제외, 이혼 추출\n",
    "age_div23 = age_div23.query('ageg !=\"young\"& marriage23 == \"divorce\"') \\\n",
    "                 .assign(proportion =age_div23['proportion']* 100) \\\n",
    "                 .round(1)\n",
    "\n",
    "age_div23"
   ]
  },
  {
   "cell_type": "code",
   "execution_count": null,
   "id": "dadeb1de",
   "metadata": {},
   "outputs": [],
   "source": [
    "# 그래프 그리기\n",
    "plt.figure(figsize=(10, 6))\n",
    "ax = sns.barplot(data=combined_age_div, x='ageg', y='proportion', hue='Year', palette='pastel')\n",
    "\n",
    "# 막대 위에 이혼율 값을 표시\n",
    "for p in ax.patches:\n",
    "    height = p.get_height()  # 막대의 높이 (이혼율)\n",
    "    ax.text(\n",
    "        p.get_x() + p.get_width() / 2,  # 막대의 x 좌표\n",
    "        height + 0.1,  # y 좌표 (막대의 높이 위)\n",
    "        f'{height:.1f}%',  # 표시할 텍스트 (이혼율 값)\n",
    "        ha='center'  # 텍스트의 수평 정렬\n",
    "    )\n",
    "\n",
    "# 그래프 레이블 및 제목 설정\n",
    "plt.xlabel('연령대', fontsize=15)\n",
    "plt.ylabel('이혼율 (%)', fontsize=15)\n",
    "plt.title('연령대별 이혼율', fontsize=20)\n",
    "plt.legend(title='Year')\n",
    "plt.xticks(rotation=45)  # X축 레이블 회전\n",
    "plt.tight_layout()  # 그래프 요소들 간의 여백 조정\n",
    "plt.show()"
   ]
  },
  {
   "cell_type": "code",
   "execution_count": null,
   "id": "4daa678b",
   "metadata": {},
   "outputs": [],
   "source": [
    "# 연령대 및 종교 유무에 따른 이혼율 분석 (young 그룹에 대한 검토 포함)\n",
    "\n",
    "# 2023년 종교 및 연령대별 이혼율\n",
    "rel_age_div23 = welfare_2023.query('ageg !=\"young\" & marriage23 != \"etc\"') \\\n",
    "                 .groupby(['religion23', 'ageg'], as_index=False) \\\n",
    "                 ['marriage23'] \\\n",
    "                 .value_counts(normalize=True)\n",
    "\n",
    "rel_age_div23 = rel_age_div23.query('ageg !=\"young\" & marriage23 == \"divorce\"') \\\n",
    "                             .assign(proportion = rel_age_div23['proportion'] * 100) \\\n",
    "                             .round(1)\n",
    "rel_age_div23"
   ]
  },
  {
   "cell_type": "code",
   "execution_count": null,
   "id": "ed3afdc0",
   "metadata": {},
   "outputs": [],
   "source": [
    "# 2019년 종교 및 연령대별 이혼율\n",
    "rel_age_div19 = welfare_2019.query('ageg !=\"young\" & marriage19 != \"etc\"') \\\n",
    "                 .groupby(['religion19', 'ageg'], as_index=False) \\\n",
    "                 ['marriage19'] \\\n",
    "                 .value_counts(normalize=True)\n",
    "\n",
    "rel_age_div19 = rel_age_div19.query('ageg !=\"young\" & marriage19 == \"divorce\"') \\\n",
    "                             .assign(proportion = rel_age_div19['proportion'] * 100) \\\n",
    "                             .round(1)\n",
    "rel_age_div19"
   ]
  },
  {
   "cell_type": "code",
   "execution_count": null,
   "id": "85694b97",
   "metadata": {},
   "outputs": [],
   "source": [
    "# 데이터프레임 컬럼 이름 일치시키기\n",
    "rel_age_div23 = rel_age_div23.rename(columns={'religion23': 'religion', 'marriage23': 'marriage', 'proportion': 'proportion23'})\n",
    "rel_age_div19 = rel_age_div19.rename(columns={'religion19': 'religion', 'marriage19': 'marriage', 'proportion': 'proportion19'})"
   ]
  },
  {
   "cell_type": "code",
   "execution_count": null,
   "id": "4b02539a",
   "metadata": {},
   "outputs": [],
   "source": [
    "# 두 데이터를 결합\n",
    "combined_rel_age_div = pd.merge(rel_age_div23, rel_age_div19, on=['religion', 'ageg'], how='outer')\n",
    "combined_rel_age_div = combined_rel_age_div.fillna(0)"
   ]
  },
  {
   "cell_type": "code",
   "execution_count": null,
   "id": "94114ef2",
   "metadata": {},
   "outputs": [],
   "source": [
    "# 이혼율 변화 계산\n",
    "combined_rel_age_div['proportion_diff'] = combined_rel_age_div['proportion23'] - combined_rel_age_div['proportion19']\n"
   ]
  },
  {
   "cell_type": "code",
   "execution_count": null,
   "id": "c63dec88",
   "metadata": {},
   "outputs": [],
   "source": [
    "\n",
    "# 시각화 - 2023년 이혼율\n",
    "plt.figure(figsize=(12, 6))\n",
    "sns.barplot(data=combined_rel_age_div, x='ageg', y='proportion23', hue='religion', palette='pastel')\n",
    "plt.xlabel('연령대')\n",
    "plt.ylabel('이혼율 (%) - 2023')\n",
    "plt.title('2023년 연령대 및 종교 유무에 따른 이혼율')\n",
    "plt.legend(title='종교')\n",
    "plt.show()\n",
    "\n",
    "# 시각화 - 2019년 이혼율\n",
    "plt.figure(figsize=(12, 6))\n",
    "sns.barplot(data=combined_rel_age_div, x='ageg', y='proportion19', hue='religion', palette='pastel')\n",
    "plt.xlabel('연령대')\n",
    "plt.ylabel('이혼율 (%) - 2019')\n",
    "plt.title('2019년 연령대 및 종교 유무에 따른 이혼율')\n",
    "plt.legend(title='종교')\n",
    "plt.show()\n",
    "\n",
    "# 시각화 - 이혼율 변화\n",
    "plt.figure(figsize=(12, 6))\n",
    "sns.barplot(data=combined_rel_age_div, x='ageg', y='proportion_diff', hue='religion', palette='pastel')\n",
    "plt.xlabel('연령대')\n",
    "plt.ylabel('이혼율 변화 (%)')\n",
    "plt.title('2019년과 2023년의 연령대 및 종교 유무에 따른 이혼율 변화')\n",
    "plt.legend(title='종교')\n",
    "plt.show()"
   ]
  },
  {
   "cell_type": "code",
   "execution_count": null,
   "id": "647cc056",
   "metadata": {},
   "outputs": [],
   "source": [
    "def add_value_labels(ax):\n",
    "    \"\"\"막대 위에 값 레이블 추가\"\"\"\n",
    "    for p in ax.patches:\n",
    "        height = p.get_height()  # 막대의 높이 (이혼율)\n",
    "        ax.text(\n",
    "            p.get_x() + p.get_width() / 2,  # 막대의 x 좌표\n",
    "            height + 0.1,  # y 좌표 (막대의 높이 위)\n",
    "            f'{height:.1f}%',  # 표시할 텍스트 (이혼율 값)\n",
    "            ha='center',  # 텍스트의 수평 정렬\n",
    "            fontsize=10,  # 텍스트의 크기\n",
    "            color='black'  # 텍스트 색상\n",
    "        )\n",
    "\n",
    "# 시각화 - 2023년 이혼율\n",
    "plt.figure(figsize=(12, 6))\n",
    "ax1 = sns.barplot(data=combined_rel_age_div, x='ageg', y='proportion23', hue='religion', palette='pastel')\n",
    "plt.xlabel('연령대')\n",
    "plt.ylabel('이혼율 (%) - 2023')\n",
    "plt.title('2023년 연령대 및 종교 유무에 따른 이혼율')\n",
    "plt.legend(title='종교')\n",
    "add_value_labels(ax1)  # 막대 위에 수치 추가\n",
    "plt.show()\n",
    "\n",
    "# 시각화 - 2019년 이혼율\n",
    "plt.figure(figsize=(12, 6))\n",
    "ax2 = sns.barplot(data=combined_rel_age_div, x='ageg', y='proportion19', hue='religion', palette='pastel')\n",
    "plt.xlabel('연령대')\n",
    "plt.ylabel('이혼율 (%) - 2019')\n",
    "plt.title('2019년 연령대 및 종교 유무에 따른 이혼율')\n",
    "plt.legend(title='종교')\n",
    "add_value_labels(ax2)  # 막대 위에 수치 추가\n",
    "plt.show()\n",
    "\n",
    "# 시각화 - 이혼율 변화\n",
    "plt.figure(figsize=(12, 6))\n",
    "ax3 = sns.barplot(data=combined_rel_age_div, x='ageg', y='proportion_diff', hue='religion', palette='pastel')\n",
    "plt.xlabel('연령대')\n",
    "plt.ylabel('이혼율 변화 (%)')\n",
    "plt.title('2019년과 2023년의 연령대 및 종교 유무에 따른 이혼율 변화')\n",
    "plt.legend(title='종교')\n",
    "add_value_labels(ax3)  # 막대 위에 수치 추가\n",
    "plt.show()"
   ]
  },
  {
   "cell_type": "markdown",
   "id": "5c9cc492",
   "metadata": {},
   "source": [
    "### 지역별 연령대 비율"
   ]
  },
  {
   "cell_type": "code",
   "execution_count": null,
   "id": "da61d39c",
   "metadata": {},
   "outputs": [],
   "source": [
    "# 2019년 코드 (셀 74)\n",
    "# 전처리\n",
    "welfare_2019['code_region19'].dtype"
   ]
  },
  {
   "cell_type": "code",
   "execution_count": null,
   "id": "e5163eb4",
   "metadata": {},
   "outputs": [],
   "source": [
    "# 2023년 코드 (셀 74)\n",
    "# 전처리\n",
    "welfare_2023['code_region23'].dtype"
   ]
  },
  {
   "cell_type": "code",
   "execution_count": null,
   "id": "d4eb0af6",
   "metadata": {},
   "outputs": [],
   "source": [
    "# 2019년 코드 (셀 75)\n",
    "welfare_2019['code_region19'].value_counts() #빈도수(지역)"
   ]
  },
  {
   "cell_type": "code",
   "execution_count": null,
   "id": "0019084b",
   "metadata": {},
   "outputs": [],
   "source": [
    "# 2023년 코드 (셀 75)\n",
    "welfare_2023['code_region23'].value_counts() #빈도수(지역)"
   ]
  },
  {
   "cell_type": "code",
   "execution_count": null,
   "id": "5c9228b7",
   "metadata": {},
   "outputs": [],
   "source": [
    "# 2019년 코드 (셀 76)\n",
    "# 지역코드 목록 만들기\n",
    "list_region19 = pd.DataFrame({'code_region19': [1,2,3,4,5,6,7],\n",
    "                            'region'     : ['서울',\n",
    "                                            '수도권(인천/경기)',\n",
    "                                            '부산/경남/울산',\n",
    "                                            '대구/경북',\n",
    "                                            '대전/충남',\n",
    "                                            '강원/충북',\n",
    "                                            '광주/전남/전북/제주도',\n",
    "                                            ]})\n",
    "list_region19"
   ]
  },
  {
   "cell_type": "code",
   "execution_count": null,
   "id": "6724df7b",
   "metadata": {},
   "outputs": [],
   "source": [
    "# 2023년 코드 (셀 76)\n",
    "# 지역코드 목록 만들기\n",
    "list_region23 = pd.DataFrame({'code_region23': [1,2,3,4,5,6,7],\n",
    "                            'region'     : ['서울',\n",
    "                                            '수도권(인천/경기)',\n",
    "                                            '부산/경남/울산',\n",
    "                                            '대구/경북',\n",
    "                                            '대전/충남',\n",
    "                                            '강원/충북',\n",
    "                                            '광주/전남/전북/제주도',\n",
    "                                            ]})\n",
    "list_region23"
   ]
  },
  {
   "cell_type": "code",
   "execution_count": null,
   "id": "3f492fb1",
   "metadata": {},
   "outputs": [],
   "source": [
    "# 2019년 코드 (셀 77)\n",
    "welfare_2019 =welfare_2019.merge(list_region19, how='left', on='code_region19')"
   ]
  },
  {
   "cell_type": "code",
   "execution_count": null,
   "id": "f153e889",
   "metadata": {},
   "outputs": [],
   "source": [
    "# 2023년 코드 (셀 77)\n",
    "welfare_2023 =welfare_2023.merge(list_region23, how='left', on='code_region23')"
   ]
  },
  {
   "cell_type": "code",
   "execution_count": null,
   "id": "53584cb0",
   "metadata": {},
   "outputs": [],
   "source": [
    "# 2019년 코드 (셀 78)\n",
    "welfare_2019[['code_region19','region']].head(10)"
   ]
  },
  {
   "cell_type": "code",
   "execution_count": null,
   "id": "c0778d27",
   "metadata": {},
   "outputs": [],
   "source": [
    "# 2023년 코드 (셀 78)\n",
    "welfare_2023[['code_region23','region']].head(10)"
   ]
  },
  {
   "cell_type": "code",
   "execution_count": null,
   "id": "2f4fb997",
   "metadata": {},
   "outputs": [],
   "source": [
    "# 2019년 코드 (셀 79)\n",
    "#지역별 연령대 비율표\n",
    "#1. region 별 분리\n",
    "#2. ageg 추출\n",
    "#3. 비율구하기\n",
    "region_ageg19 =welfare_2019.groupby('region',as_index=False) \\\n",
    "                        ['ageg'] \\\n",
    "                        .value_counts(normalize=True)\n",
    "region_ageg19"
   ]
  },
  {
   "cell_type": "code",
   "execution_count": null,
   "id": "157c8429",
   "metadata": {},
   "outputs": [],
   "source": [
    "# 2023년 코드 (셀 79)\n",
    "#지역별 연령대 비율표\n",
    "#1. region 별 분리\n",
    "#2. ageg 추출\n",
    "#3. 비율구하기\n",
    "region_ageg23 =welfare_2023.groupby('region',as_index=False) \\\n",
    "                        ['ageg'] \\\n",
    "                        .value_counts(normalize=True)\n",
    "region_ageg23"
   ]
  },
  {
   "cell_type": "code",
   "execution_count": null,
   "id": "c027cd7d",
   "metadata": {},
   "outputs": [],
   "source": [
    "# 2019년 코드 (셀 80)\n",
    "# 시각화\n",
    "sns.barplot(data= region_ageg19, y='region',x='proportion',hue='ageg')"
   ]
  },
  {
   "cell_type": "code",
   "execution_count": null,
   "id": "5f6315b0",
   "metadata": {},
   "outputs": [],
   "source": [
    "# 2023년 코드 (셀 80)\n",
    "# 시각화\n",
    "sns.barplot(data= region_ageg23, y='region',x='proportion',hue='ageg')"
   ]
  },
  {
   "cell_type": "code",
   "execution_count": null,
   "id": "16aec9d6",
   "metadata": {},
   "outputs": [],
   "source": [
    "# 노인,중년,초년생들 데이터\n",
    "#이중축 백투백 그래프\n",
    "\n",
    "# 지역별 데이터 입력 (실제 데이터로 대체 필요)\n",
    "regions = ['강원/충북', '광주/전남/전북/제주도', '대구/경북', '대전/충남', '부산/경남/울산', '서울', '수도권(인천/경기)']\n",
    "\n",
    "# 예시 인구 비율 데이터 (실제 데이터로 대체 필요)\n",
    "# 2019년 데이터\n",
    "proportion_2019_old = np.array([0.459103, 0.449311, 0.504051, 0.413372, 0.4375, 0.376124, 0.325015])\n",
    "proportion_2019_middle = np.array([0.308707, 0.317924, 0.296296, 0.336449, 0.333742, 0.385115, 0.38817])\n",
    "proportion_2019_young = np.array([0.23219, 0.232766, 0.199653, 0.25018, 0.228758, 0.238761, 0.286815])\n",
    "\n",
    "# 2023년 데이터\n",
    "proportion_2023_old = np.array([0.569639, 0.529391, 0.577309, 0.504147, 0.494349, 0.455922, 0.386776])\n",
    "proportion_2023_middle = np.array([0.268239, 0.281043, 0.271240, 0.296801, 0.310609, 0.355868, 0.360670])\n",
    "proportion_2023_young = np.array([0.162122, 0.189565, 0.151451, 0.199052, 0.195042, 0.188210, 0.252554])\n",
    "\n",
    "# 백투백 그래프 생성\n",
    "fig, ax = plt.subplots(3, 1, figsize=(12, 18))\n",
    "\n",
    "# 'old' 연령대에 대한 백투백 그래프\n",
    "ax[0].barh(regions, -proportion_2019_old, color='blue', alpha=0.3, label='2019 Old')\n",
    "ax[0].barh(regions, proportion_2023_old, color='red', alpha=0.3, label='2023 Old')\n",
    "ax[0].set_title('Old Age Group Proportion Comparison')\n",
    "ax[0].set_xlabel('Proportion')\n",
    "ax[0].legend()\n",
    "\n",
    "# 'middle' 연령대에 대한 백투백 그래프\n",
    "ax[1].barh(regions, -proportion_2019_middle, color='blue', alpha=0.7, label='2019 Middle')\n",
    "ax[1].barh(regions, proportion_2023_middle, color='red', alpha=0.7, label='2023 Middle')\n",
    "ax[1].set_title('Middle Age Group Proportion Comparison')\n",
    "ax[1].set_xlabel('Proportion')\n",
    "ax[1].legend()\n",
    "\n",
    "# 'young' 연령대에 대한 백투백 그래프\n",
    "ax[2].barh(regions, -proportion_2019_young, color='blue', alpha=0.5, label='2019 Young')\n",
    "ax[2].barh(regions, proportion_2023_young, color='red', alpha=0.5, label='2023 Young')\n",
    "ax[2].set_title('Young Age Group Proportion Comparison')\n",
    "ax[2].set_xlabel('Proportion')\n",
    "ax[2].legend()\n",
    "\n",
    "# 중앙선 추가\n",
    "for a in ax:\n",
    "    a.axvline(0, color='black', linewidth=1)\n",
    "\n",
    "plt.tight_layout()\n",
    "plt.show()"
   ]
  },
  {
   "cell_type": "code",
   "execution_count": null,
   "id": "7a8b96b2",
   "metadata": {},
   "outputs": [],
   "source": []
  }
 ],
 "metadata": {
  "kernelspec": {
   "display_name": "Python 3",
   "language": "python",
   "name": "python3"
  },
  "language_info": {
   "codemirror_mode": {
    "name": "ipython",
    "version": 3
   },
   "file_extension": ".py",
   "mimetype": "text/x-python",
   "name": "python",
   "nbconvert_exporter": "python",
   "pygments_lexer": "ipython3",
   "version": "3.12.4"
  }
 },
 "nbformat": 4,
 "nbformat_minor": 5
}
